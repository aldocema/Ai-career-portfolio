{
 "cells": [
  {
   "cell_type": "code",
   "execution_count": 31,
   "id": "09ef2f59",
   "metadata": {},
   "outputs": [],
   "source": [
    "import csv\n",
    "import numpy as np\n",
    "import matplotlib.pyplot as plt\n",
    "import pandas as pd\n",
    "from sklearn.metrics import confusion_matrix\n",
    "import seaborn as sns\n"
   ]
  },
  {
   "cell_type": "markdown",
   "id": "17fcae8e",
   "metadata": {},
   "source": [
    "## Base de datos de hongos\n",
    "\n",
    "respuestas en [bd hongos res](https://datascienceplus.com/mushrooms-classification-part-1/)"
   ]
  },
  {
   "cell_type": "code",
   "execution_count": 32,
   "id": "21fd67bd",
   "metadata": {},
   "outputs": [
    {
     "name": "stdout",
     "output_type": "stream",
     "text": [
      "1. Title: Mushroom Database\n",
      "\n",
      "\n",
      "\n",
      "2. Sources: \n",
      "\n",
      "    (a) Mushroom records drawn from The Audubon Society Field Guide to North\n",
      "\n",
      "        American Mushrooms (1981). G. H. Lincoff (Pres.), New York: Alfred\n",
      "\n",
      "        A. Knopf\n",
      "\n",
      "    (b) Donor: Jeff Schlimmer (Jeffrey.Schlimmer@a.gp.cs.cmu.edu)\n",
      "\n",
      "    (c) Date: 27 April 1987\n",
      "\n",
      "\n",
      "\n",
      "3. Past Usage:\n",
      "\n",
      "    1. Schlimmer,J.S. (1987). Concept Acquisition Through Representational\n",
      "\n",
      "       Adjustment (Technical Report 87-19).  Doctoral disseration, Department\n",
      "\n",
      "       of Information and Computer Science, University of California, Irvine.\n",
      "\n",
      "       --- STAGGER: asymptoted to 95% classification accuracy after reviewing\n",
      "\n",
      "           1000 instances.\n",
      "\n",
      "    2. Iba,W., Wogulis,J., & Langley,P. (1988).  Trading off Simplicity\n",
      "\n",
      "       and Coverage in Incremental Concept Learning. In Proceedings of \n",
      "\n",
      "       the 5th International Conference on Machine Learning, 73-79.\n",
      "\n",
      "       Ann Arbor, Michigan: Morgan Kaufmann.  \n",
      "\n",
      "       -- approximately the same results with their HILLARY algorithm    \n",
      "\n",
      "    3. In the following references a set of rules (given below) were\n",
      "\n",
      "\tlearned for this data set which may serve as a point of\n",
      "\n",
      "\tcomparison for other researchers.\n",
      "\n",
      "\n",
      "\n",
      "\tDuch W, Adamczak R, Grabczewski K (1996) Extraction of logical rules\n",
      "\n",
      "\tfrom training data using backpropagation networks, in: Proc. of the\n",
      "\n",
      "\tThe 1st Online Workshop on Soft Computing, 19-30.Aug.1996, pp. 25-30,\n",
      "\n",
      "\tavailable on-line at: http://www.bioele.nuee.nagoya-u.ac.jp/wsc1/\n",
      "\n",
      "\n",
      "\n",
      "\tDuch W, Adamczak R, Grabczewski K, Ishikawa M, Ueda H, Extraction of\n",
      "\n",
      "\tcrisp logical rules using constrained backpropagation networks -\n",
      "\n",
      "\tcomparison of two new approaches, in: Proc. of the European Symposium\n",
      "\n",
      "\ton Artificial Neural Networks (ESANN'97), Bruge, Belgium 16-18.4.1997,\n",
      "\n",
      "\tpp. xx-xx\n",
      "\n",
      "\n",
      "\n",
      "\tWlodzislaw Duch, Department of Computer Methods, Nicholas Copernicus\n",
      "\n",
      "\tUniversity, 87-100 Torun, Grudziadzka 5, Poland\n",
      "\n",
      "\te-mail: duch@phys.uni.torun.pl\n",
      "\n",
      "\tWWW     http://www.phys.uni.torun.pl/kmk/\n",
      "\n",
      "\t\n",
      "\n",
      "\tDate: Mon, 17 Feb 1997 13:47:40 +0100\n",
      "\n",
      "\tFrom: Wlodzislaw Duch <duch@phys.uni.torun.pl>\n",
      "\n",
      "\tOrganization: Dept. of Computer Methods, UMK\n",
      "\n",
      "\n",
      "\n",
      "\tI have attached a file containing logical rules for mushrooms.\n",
      "\n",
      "\tIt should be helpful for other people since only in the last year I\n",
      "\n",
      "\thave seen about 10 papers analyzing this dataset and obtaining quite\n",
      "\n",
      "\tcomplex rules. We will try to contribute other results later.\n",
      "\n",
      "\n",
      "\n",
      "\tWith best regards, Wlodek Duch\n",
      "\n",
      "\t________________________________________________________________\n",
      "\n",
      "\n",
      "\n",
      "\tLogical rules for the mushroom data sets.\n",
      "\n",
      "\n",
      "\n",
      "\tLogical rules given below seem to be the simplest possible for the\n",
      "\n",
      "\tmushroom dataset and therefore should be treated as benchmark results.\n",
      "\n",
      "\n",
      "\n",
      "\tDisjunctive rules for poisonous mushrooms, from most general\n",
      "\n",
      "\tto most specific:\n",
      "\n",
      "\n",
      "\n",
      "\tP_1) odor=NOT(almond.OR.anise.OR.none)\n",
      "\n",
      "\t     120 poisonous cases missed, 98.52% accuracy\n",
      "\n",
      "\n",
      "\n",
      "\tP_2) spore-print-color=green\n",
      "\n",
      "\t     48 cases missed, 99.41% accuracy\n",
      "\n",
      "         \n",
      "\n",
      "\tP_3) odor=none.AND.stalk-surface-below-ring=scaly.AND.\n",
      "\n",
      "\t          (stalk-color-above-ring=NOT.brown) \n",
      "\n",
      "\t     8 cases missed, 99.90% accuracy\n",
      "\n",
      "         \n",
      "\n",
      "\tP_4) habitat=leaves.AND.cap-color=white\n",
      "\n",
      "\t         100% accuracy     \n",
      "\n",
      "\n",
      "\n",
      "\tRule P_4) may also be\n",
      "\n",
      "\n",
      "\n",
      "\tP_4') population=clustered.AND.cap_color=white\n",
      "\n",
      "\n",
      "\n",
      "\tThese rule involve 6 attributes (out of 22). Rules for edible\n",
      "\n",
      "\tmushrooms are obtained as negation of the rules given above, for\n",
      "\n",
      "\texample the rule:\n",
      "\n",
      "\n",
      "\n",
      "\todor=(almond.OR.anise.OR.none).AND.spore-print-color=NOT.green\n",
      "\n",
      "\n",
      "\n",
      "\tgives 48 errors, or 99.41% accuracy on the whole dataset.\n",
      "\n",
      "\n",
      "\n",
      "\tSeveral slightly more complex variations on these rules exist,\n",
      "\n",
      "\tinvolving other attributes, such as gill_size, gill_spacing,\n",
      "\n",
      "\tstalk_surface_above_ring, but the rules given above are the simplest\n",
      "\n",
      "\twe have found.\n",
      "\n",
      "\n",
      "\n",
      "\n",
      "\n",
      "4. Relevant Information:\n",
      "\n",
      "    This data set includes descriptions of hypothetical samples\n",
      "\n",
      "    corresponding to 23 species of gilled mushrooms in the Agaricus and\n",
      "\n",
      "    Lepiota Family (pp. 500-525).  Each species is identified as\n",
      "\n",
      "    definitely edible, definitely poisonous, or of unknown edibility and\n",
      "\n",
      "    not recommended.  This latter class was combined with the poisonous\n",
      "\n",
      "    one.  The Guide clearly states that there is no simple rule for\n",
      "\n",
      "    determining the edibility of a mushroom; no rule like ``leaflets\n",
      "\n",
      "    three, let it be'' for Poisonous Oak and Ivy.\n",
      "\n",
      "\n",
      "\n",
      "5. Number of Instances: 8124\n",
      "\n",
      "\n",
      "\n",
      "6. Number of Attributes: 22 (all nominally valued)\n",
      "\n",
      "\n",
      "\n",
      "7. Attribute Information: (classes: edible=e, poisonous=p)\n",
      "\n",
      "     1. cap-shape:                bell=b,conical=c,convex=x,flat=f,\n",
      "\n",
      "                                  knobbed=k,sunken=s\n",
      "\n",
      "     2. cap-surface:              fibrous=f,grooves=g,scaly=y,smooth=s\n",
      "\n",
      "     3. cap-color:                brown=n,buff=b,cinnamon=c,gray=g,green=r,\n",
      "\n",
      "                                  pink=p,purple=u,red=e,white=w,yellow=y\n",
      "\n",
      "     4. bruises?:                 bruises=t,no=f\n",
      "\n",
      "     5. odor:                     almond=a,anise=l,creosote=c,fishy=y,foul=f,\n",
      "\n",
      "                                  musty=m,none=n,pungent=p,spicy=s\n",
      "\n",
      "     6. gill-attachment:          attached=a,descending=d,free=f,notched=n\n",
      "\n",
      "     7. gill-spacing:             close=c,crowded=w,distant=d\n",
      "\n",
      "     8. gill-size:                broad=b,narrow=n\n",
      "\n",
      "     9. gill-color:               black=k,brown=n,buff=b,chocolate=h,gray=g,\n",
      "\n",
      "                                  green=r,orange=o,pink=p,purple=u,red=e,\n",
      "\n",
      "                                  white=w,yellow=y\n",
      "\n",
      "    10. stalk-shape:              enlarging=e,tapering=t\n",
      "\n",
      "    11. stalk-root:               bulbous=b,club=c,cup=u,equal=e,\n",
      "\n",
      "                                  rhizomorphs=z,rooted=r,missing=?\n",
      "\n",
      "    12. stalk-surface-above-ring: fibrous=f,scaly=y,silky=k,smooth=s\n",
      "\n",
      "    13. stalk-surface-below-ring: fibrous=f,scaly=y,silky=k,smooth=s\n",
      "\n",
      "    14. stalk-color-above-ring:   brown=n,buff=b,cinnamon=c,gray=g,orange=o,\n",
      "\n",
      "                                  pink=p,red=e,white=w,yellow=y\n",
      "\n",
      "    15. stalk-color-below-ring:   brown=n,buff=b,cinnamon=c,gray=g,orange=o,\n",
      "\n",
      "                                  pink=p,red=e,white=w,yellow=y\n",
      "\n",
      "    16. veil-type:                partial=p,universal=u\n",
      "\n",
      "    17. veil-color:               brown=n,orange=o,white=w,yellow=y\n",
      "\n",
      "    18. ring-number:              none=n,one=o,two=t\n",
      "\n",
      "    19. ring-type:                cobwebby=c,evanescent=e,flaring=f,large=l,\n",
      "\n",
      "                                  none=n,pendant=p,sheathing=s,zone=z\n",
      "\n",
      "    20. spore-print-color:        black=k,brown=n,buff=b,chocolate=h,green=r,\n",
      "\n",
      "                                  orange=o,purple=u,white=w,yellow=y\n",
      "\n",
      "    21. population:               abundant=a,clustered=c,numerous=n,\n",
      "\n",
      "                                  scattered=s,several=v,solitary=y\n",
      "\n",
      "    22. habitat:                  grasses=g,leaves=l,meadows=m,paths=p,\n",
      "\n",
      "                                  urban=u,waste=w,woods=d\n",
      "\n",
      "\n",
      "\n",
      "8. Missing Attribute Values: 2480 of them (denoted by \"?\"), all for\n",
      "\n",
      "   attribute #11.\n",
      "\n",
      "\n",
      "\n",
      "9. Class Distribution: \n",
      "\n",
      "    --    edible: 4208 (51.8%)\n",
      "\n",
      "    -- poisonous: 3916 (48.2%)\n",
      "\n",
      "    --     total: 8124 instances\n",
      "\n"
     ]
    }
   ],
   "source": [
    "data_file = 'agaricus-lepiota.data'\n",
    "data=[]\n",
    "with open(data_file, 'r') as file:\n",
    "    reader = csv.reader(file)\n",
    "    for row in reader:\n",
    "        # Procesar cada fila del archivo .data\n",
    "        data.append(row)\n",
    "        #print(row)\n",
    "\n",
    "df=pd.DataFrame(data)\n",
    "column_names=['class','cap-shape','cap-surface','cap-color','bruises','odor','gill-attachment','gill-spacing','gill-size',\n",
    "              'gill-color','stalk-shape','stalk-root','ssar','ssbr','scar','scbr','veil-type','veil-color',\n",
    "              'ring-number','ring-type','spore-p-color','population','habitat']\n",
    "df.columns=column_names\n",
    "# Leer el archivo .names\n",
    "names_file = 'agaricus-lepiota.names'\n",
    "with open(names_file, 'r') as file:\n",
    "    lines = file.readlines()\n",
    "    for line in lines:\n",
    "        # Procesar cada línea del archivo .names\n",
    "        print(line)\n"
   ]
  },
  {
   "cell_type": "code",
   "execution_count": 33,
   "id": "00a77a78",
   "metadata": {},
   "outputs": [
    {
     "data": {
      "text/html": [
       "<div>\n",
       "<style scoped>\n",
       "    .dataframe tbody tr th:only-of-type {\n",
       "        vertical-align: middle;\n",
       "    }\n",
       "\n",
       "    .dataframe tbody tr th {\n",
       "        vertical-align: top;\n",
       "    }\n",
       "\n",
       "    .dataframe thead th {\n",
       "        text-align: right;\n",
       "    }\n",
       "</style>\n",
       "<table border=\"1\" class=\"dataframe\">\n",
       "  <thead>\n",
       "    <tr style=\"text-align: right;\">\n",
       "      <th></th>\n",
       "      <th>cap-shape</th>\n",
       "      <th>cap-surface</th>\n",
       "      <th>cap-color</th>\n",
       "      <th>bruises</th>\n",
       "      <th>odor</th>\n",
       "      <th>gill-attachment</th>\n",
       "      <th>gill-spacing</th>\n",
       "      <th>gill-size</th>\n",
       "      <th>gill-color</th>\n",
       "      <th>stalk-shape</th>\n",
       "      <th>...</th>\n",
       "      <th>scar</th>\n",
       "      <th>scbr</th>\n",
       "      <th>veil-type</th>\n",
       "      <th>veil-color</th>\n",
       "      <th>ring-number</th>\n",
       "      <th>ring-type</th>\n",
       "      <th>spore-p-color</th>\n",
       "      <th>population</th>\n",
       "      <th>habitat</th>\n",
       "      <th>class</th>\n",
       "    </tr>\n",
       "  </thead>\n",
       "  <tbody>\n",
       "    <tr>\n",
       "      <th>0</th>\n",
       "      <td>x</td>\n",
       "      <td>s</td>\n",
       "      <td>n</td>\n",
       "      <td>t</td>\n",
       "      <td>p</td>\n",
       "      <td>f</td>\n",
       "      <td>c</td>\n",
       "      <td>n</td>\n",
       "      <td>k</td>\n",
       "      <td>e</td>\n",
       "      <td>...</td>\n",
       "      <td>w</td>\n",
       "      <td>w</td>\n",
       "      <td>p</td>\n",
       "      <td>w</td>\n",
       "      <td>o</td>\n",
       "      <td>p</td>\n",
       "      <td>k</td>\n",
       "      <td>s</td>\n",
       "      <td>u</td>\n",
       "      <td>p</td>\n",
       "    </tr>\n",
       "    <tr>\n",
       "      <th>1</th>\n",
       "      <td>x</td>\n",
       "      <td>s</td>\n",
       "      <td>y</td>\n",
       "      <td>t</td>\n",
       "      <td>a</td>\n",
       "      <td>f</td>\n",
       "      <td>c</td>\n",
       "      <td>b</td>\n",
       "      <td>k</td>\n",
       "      <td>e</td>\n",
       "      <td>...</td>\n",
       "      <td>w</td>\n",
       "      <td>w</td>\n",
       "      <td>p</td>\n",
       "      <td>w</td>\n",
       "      <td>o</td>\n",
       "      <td>p</td>\n",
       "      <td>n</td>\n",
       "      <td>n</td>\n",
       "      <td>g</td>\n",
       "      <td>e</td>\n",
       "    </tr>\n",
       "    <tr>\n",
       "      <th>2</th>\n",
       "      <td>b</td>\n",
       "      <td>s</td>\n",
       "      <td>w</td>\n",
       "      <td>t</td>\n",
       "      <td>l</td>\n",
       "      <td>f</td>\n",
       "      <td>c</td>\n",
       "      <td>b</td>\n",
       "      <td>n</td>\n",
       "      <td>e</td>\n",
       "      <td>...</td>\n",
       "      <td>w</td>\n",
       "      <td>w</td>\n",
       "      <td>p</td>\n",
       "      <td>w</td>\n",
       "      <td>o</td>\n",
       "      <td>p</td>\n",
       "      <td>n</td>\n",
       "      <td>n</td>\n",
       "      <td>m</td>\n",
       "      <td>e</td>\n",
       "    </tr>\n",
       "    <tr>\n",
       "      <th>3</th>\n",
       "      <td>x</td>\n",
       "      <td>y</td>\n",
       "      <td>w</td>\n",
       "      <td>t</td>\n",
       "      <td>p</td>\n",
       "      <td>f</td>\n",
       "      <td>c</td>\n",
       "      <td>n</td>\n",
       "      <td>n</td>\n",
       "      <td>e</td>\n",
       "      <td>...</td>\n",
       "      <td>w</td>\n",
       "      <td>w</td>\n",
       "      <td>p</td>\n",
       "      <td>w</td>\n",
       "      <td>o</td>\n",
       "      <td>p</td>\n",
       "      <td>k</td>\n",
       "      <td>s</td>\n",
       "      <td>u</td>\n",
       "      <td>p</td>\n",
       "    </tr>\n",
       "    <tr>\n",
       "      <th>4</th>\n",
       "      <td>x</td>\n",
       "      <td>s</td>\n",
       "      <td>g</td>\n",
       "      <td>f</td>\n",
       "      <td>n</td>\n",
       "      <td>f</td>\n",
       "      <td>w</td>\n",
       "      <td>b</td>\n",
       "      <td>k</td>\n",
       "      <td>t</td>\n",
       "      <td>...</td>\n",
       "      <td>w</td>\n",
       "      <td>w</td>\n",
       "      <td>p</td>\n",
       "      <td>w</td>\n",
       "      <td>o</td>\n",
       "      <td>e</td>\n",
       "      <td>n</td>\n",
       "      <td>a</td>\n",
       "      <td>g</td>\n",
       "      <td>e</td>\n",
       "    </tr>\n",
       "    <tr>\n",
       "      <th>...</th>\n",
       "      <td>...</td>\n",
       "      <td>...</td>\n",
       "      <td>...</td>\n",
       "      <td>...</td>\n",
       "      <td>...</td>\n",
       "      <td>...</td>\n",
       "      <td>...</td>\n",
       "      <td>...</td>\n",
       "      <td>...</td>\n",
       "      <td>...</td>\n",
       "      <td>...</td>\n",
       "      <td>...</td>\n",
       "      <td>...</td>\n",
       "      <td>...</td>\n",
       "      <td>...</td>\n",
       "      <td>...</td>\n",
       "      <td>...</td>\n",
       "      <td>...</td>\n",
       "      <td>...</td>\n",
       "      <td>...</td>\n",
       "      <td>...</td>\n",
       "    </tr>\n",
       "    <tr>\n",
       "      <th>8119</th>\n",
       "      <td>k</td>\n",
       "      <td>s</td>\n",
       "      <td>n</td>\n",
       "      <td>f</td>\n",
       "      <td>n</td>\n",
       "      <td>a</td>\n",
       "      <td>c</td>\n",
       "      <td>b</td>\n",
       "      <td>y</td>\n",
       "      <td>e</td>\n",
       "      <td>...</td>\n",
       "      <td>o</td>\n",
       "      <td>o</td>\n",
       "      <td>p</td>\n",
       "      <td>o</td>\n",
       "      <td>o</td>\n",
       "      <td>p</td>\n",
       "      <td>b</td>\n",
       "      <td>c</td>\n",
       "      <td>l</td>\n",
       "      <td>e</td>\n",
       "    </tr>\n",
       "    <tr>\n",
       "      <th>8120</th>\n",
       "      <td>x</td>\n",
       "      <td>s</td>\n",
       "      <td>n</td>\n",
       "      <td>f</td>\n",
       "      <td>n</td>\n",
       "      <td>a</td>\n",
       "      <td>c</td>\n",
       "      <td>b</td>\n",
       "      <td>y</td>\n",
       "      <td>e</td>\n",
       "      <td>...</td>\n",
       "      <td>o</td>\n",
       "      <td>o</td>\n",
       "      <td>p</td>\n",
       "      <td>n</td>\n",
       "      <td>o</td>\n",
       "      <td>p</td>\n",
       "      <td>b</td>\n",
       "      <td>v</td>\n",
       "      <td>l</td>\n",
       "      <td>e</td>\n",
       "    </tr>\n",
       "    <tr>\n",
       "      <th>8121</th>\n",
       "      <td>f</td>\n",
       "      <td>s</td>\n",
       "      <td>n</td>\n",
       "      <td>f</td>\n",
       "      <td>n</td>\n",
       "      <td>a</td>\n",
       "      <td>c</td>\n",
       "      <td>b</td>\n",
       "      <td>n</td>\n",
       "      <td>e</td>\n",
       "      <td>...</td>\n",
       "      <td>o</td>\n",
       "      <td>o</td>\n",
       "      <td>p</td>\n",
       "      <td>o</td>\n",
       "      <td>o</td>\n",
       "      <td>p</td>\n",
       "      <td>b</td>\n",
       "      <td>c</td>\n",
       "      <td>l</td>\n",
       "      <td>e</td>\n",
       "    </tr>\n",
       "    <tr>\n",
       "      <th>8122</th>\n",
       "      <td>k</td>\n",
       "      <td>y</td>\n",
       "      <td>n</td>\n",
       "      <td>f</td>\n",
       "      <td>y</td>\n",
       "      <td>f</td>\n",
       "      <td>c</td>\n",
       "      <td>n</td>\n",
       "      <td>b</td>\n",
       "      <td>t</td>\n",
       "      <td>...</td>\n",
       "      <td>w</td>\n",
       "      <td>w</td>\n",
       "      <td>p</td>\n",
       "      <td>w</td>\n",
       "      <td>o</td>\n",
       "      <td>e</td>\n",
       "      <td>w</td>\n",
       "      <td>v</td>\n",
       "      <td>l</td>\n",
       "      <td>p</td>\n",
       "    </tr>\n",
       "    <tr>\n",
       "      <th>8123</th>\n",
       "      <td>x</td>\n",
       "      <td>s</td>\n",
       "      <td>n</td>\n",
       "      <td>f</td>\n",
       "      <td>n</td>\n",
       "      <td>a</td>\n",
       "      <td>c</td>\n",
       "      <td>b</td>\n",
       "      <td>y</td>\n",
       "      <td>e</td>\n",
       "      <td>...</td>\n",
       "      <td>o</td>\n",
       "      <td>o</td>\n",
       "      <td>p</td>\n",
       "      <td>o</td>\n",
       "      <td>o</td>\n",
       "      <td>p</td>\n",
       "      <td>o</td>\n",
       "      <td>c</td>\n",
       "      <td>l</td>\n",
       "      <td>e</td>\n",
       "    </tr>\n",
       "  </tbody>\n",
       "</table>\n",
       "<p>8124 rows × 23 columns</p>\n",
       "</div>"
      ],
      "text/plain": [
       "     cap-shape cap-surface cap-color bruises odor gill-attachment  \\\n",
       "0            x           s         n       t    p               f   \n",
       "1            x           s         y       t    a               f   \n",
       "2            b           s         w       t    l               f   \n",
       "3            x           y         w       t    p               f   \n",
       "4            x           s         g       f    n               f   \n",
       "...        ...         ...       ...     ...  ...             ...   \n",
       "8119         k           s         n       f    n               a   \n",
       "8120         x           s         n       f    n               a   \n",
       "8121         f           s         n       f    n               a   \n",
       "8122         k           y         n       f    y               f   \n",
       "8123         x           s         n       f    n               a   \n",
       "\n",
       "     gill-spacing gill-size gill-color stalk-shape  ... scar scbr veil-type  \\\n",
       "0               c         n          k           e  ...    w    w         p   \n",
       "1               c         b          k           e  ...    w    w         p   \n",
       "2               c         b          n           e  ...    w    w         p   \n",
       "3               c         n          n           e  ...    w    w         p   \n",
       "4               w         b          k           t  ...    w    w         p   \n",
       "...           ...       ...        ...         ...  ...  ...  ...       ...   \n",
       "8119            c         b          y           e  ...    o    o         p   \n",
       "8120            c         b          y           e  ...    o    o         p   \n",
       "8121            c         b          n           e  ...    o    o         p   \n",
       "8122            c         n          b           t  ...    w    w         p   \n",
       "8123            c         b          y           e  ...    o    o         p   \n",
       "\n",
       "     veil-color ring-number ring-type spore-p-color population habitat class  \n",
       "0             w           o         p             k          s       u     p  \n",
       "1             w           o         p             n          n       g     e  \n",
       "2             w           o         p             n          n       m     e  \n",
       "3             w           o         p             k          s       u     p  \n",
       "4             w           o         e             n          a       g     e  \n",
       "...         ...         ...       ...           ...        ...     ...   ...  \n",
       "8119          o           o         p             b          c       l     e  \n",
       "8120          n           o         p             b          v       l     e  \n",
       "8121          o           o         p             b          c       l     e  \n",
       "8122          w           o         e             w          v       l     p  \n",
       "8123          o           o         p             o          c       l     e  \n",
       "\n",
       "[8124 rows x 23 columns]"
      ]
     },
     "execution_count": 33,
     "metadata": {},
     "output_type": "execute_result"
    }
   ],
   "source": [
    "class_column = df['class']\n",
    "df = df.drop('class', axis=1)\n",
    "df['class'] = class_column\n",
    "df"
   ]
  },
  {
   "cell_type": "markdown",
   "id": "ab6447cc",
   "metadata": {},
   "source": [
    "## Imputación del atributo 'stalk-root'\n",
    "\n",
    "Se realizará una imputación por modas de clases. [métodos](https://www.analyticsvidhya.com/blog/2021/04/how-to-handle-missing-values-of-categorical-variables/) Básicamente reemplaza el valor más frecuente de cada clase de salida (venenoso y comestible)."
   ]
  },
  {
   "cell_type": "code",
   "execution_count": 34,
   "id": "c3157f49",
   "metadata": {},
   "outputs": [
    {
     "name": "stdout",
     "output_type": "stream",
     "text": [
      "Moda de stalk-root venenoso: b\n",
      "Moda de stalk-root comestible; b\n"
     ]
    }
   ],
   "source": [
    "moda_venenoso=df['stalk-root'][(df['class']=='p') & (df['stalk-root']!='?')].mode()\n",
    "print('Moda de stalk-root venenoso:', str(moda_venenoso[0]))\n",
    "moda_comestible=df['stalk-root'][(df['class']=='e') & (df['stalk-root']!='?')].mode()\n",
    "print('Moda de stalk-root comestible;',str(moda_comestible[0]))"
   ]
  },
  {
   "cell_type": "code",
   "execution_count": 35,
   "id": "e637fc3d",
   "metadata": {},
   "outputs": [],
   "source": [
    "#df['stalk-root'][df['class']=='p'].replace('?',moda_venenoso[0],inplace=True)\n",
    "#df['stalk-root'][df['class']=='e'].replace('?',moda_comestible[0],inplace=True)\n",
    "#df['stalk-root'][df['class']].replace('?','b',inplace=True)\n",
    "condicion = df['class'] == 'p'\n",
    "df['stalk-root'] = np.where(condicion, df['stalk-root'].replace('?', moda_venenoso[0]), df['stalk-root'])\n",
    "\n",
    "condicion = df['class'] == 'e'\n",
    "df['stalk-root'] = np.where(condicion, df['stalk-root'].replace('?', moda_comestible[0]), df['stalk-root'])"
   ]
  },
  {
   "cell_type": "code",
   "execution_count": 36,
   "id": "3a312385",
   "metadata": {},
   "outputs": [
    {
     "data": {
      "text/plain": [
       "b    6256\n",
       "e    1120\n",
       "c     556\n",
       "r     192\n",
       "Name: stalk-root, dtype: int64"
      ]
     },
     "execution_count": 36,
     "metadata": {},
     "output_type": "execute_result"
    }
   ],
   "source": [
    "df['stalk-root'].value_counts()"
   ]
  },
  {
   "cell_type": "markdown",
   "id": "3ff47d8c",
   "metadata": {},
   "source": [
    "Se asigna un número único a cada valor único en la columna 0 venenoso ('p', poisonus) 1 no venenoso ('e', edible)\n",
    "\n",
    "Los métodos de codificación que se hicieron fueron obtenidos de [codificación](https://towardsdatascience.com/6-ways-to-encode-features-for-machine-learning-algorithms-21593f6238b0)"
   ]
  },
  {
   "cell_type": "code",
   "execution_count": 37,
   "id": "7b6e2a62",
   "metadata": {},
   "outputs": [],
   "source": [
    "# División de xy\n",
    "d_temp_class=pd.factorize(df['class'])[0]\n",
    "d_temp_class=pd.DataFrame(d_temp_class,columns=['class'])\n",
    "d_temp_x=df.drop('class',axis=1)"
   ]
  },
  {
   "cell_type": "markdown",
   "id": "a8d64493",
   "metadata": {},
   "source": [
    "# Codificación ordinal\n",
    "\n",
    "Se asigma un número único a cada valor único de la característica\n",
    "\n",
    "<img src=\"label-ordinal encoding ejemplo.png\" width=\"200\"/>"
   ]
  },
  {
   "cell_type": "code",
   "execution_count": 38,
   "id": "66738a7c",
   "metadata": {},
   "outputs": [
    {
     "data": {
      "text/plain": [
       "(8124, 23)"
      ]
     },
     "execution_count": 38,
     "metadata": {},
     "output_type": "execute_result"
    }
   ],
   "source": [
    "from category_encoders import OrdinalEncoder\n",
    "encoder=OrdinalEncoder(cols=list(d_temp_x.columns))\n",
    "encoder.fit(d_temp_x)\n",
    "denc_ord=encoder.transform(d_temp_x)\n",
    "denc_ord=pd.concat([denc_ord,d_temp_class],axis=1)\n",
    "denc_ord.shape"
   ]
  },
  {
   "cell_type": "markdown",
   "id": "53da9db7",
   "metadata": {},
   "source": [
    "## Codificación por frecuencia\n",
    "\n",
    "Básicamente se cuenta la cantidad de valores diferentes y se calcula su porcentaje de aparición\n",
    "\n",
    "$$Ci_{freq}=\\frac{fi_{cat}}{n_{instancias}}$$\n",
    "\n",
    "Donde:\n",
    "* $Ci_{freq}$ es el valor codificado de la categoria $i$ \n",
    "* $f_{cat}$ es la frecuencia (numero de veces que aparece) la categoria $i$\n",
    "* $n_{instancias}$ es el número de instancias (renglones).\n",
    "\n",
    "<img src=\"freq-count encoding ejemplo.png\" width=\"200\"/>\n"
   ]
  },
  {
   "cell_type": "code",
   "execution_count": 39,
   "id": "42266e36",
   "metadata": {},
   "outputs": [
    {
     "data": {
      "text/plain": [
       "(8124, 23)"
      ]
     },
     "execution_count": 39,
     "metadata": {},
     "output_type": "execute_result"
    }
   ],
   "source": [
    "from category_encoders import CountEncoder\n",
    "encoder = CountEncoder(cols=list(d_temp_x.columns), normalize=True)\n",
    "d_count_x = encoder.fit_transform(d_temp_x)\n",
    "denc_count=pd.concat([d_count_x,d_temp_class],axis=1) ### Segunda codificacion\n",
    "denc_count.shape"
   ]
  },
  {
   "cell_type": "markdown",
   "id": "754f47ee",
   "metadata": {},
   "source": [
    "## Codificación binaria\n",
    "\n",
    "Permite aumentar poco la dimensión del modelo. En comparación a One-hot"
   ]
  },
  {
   "cell_type": "code",
   "execution_count": 40,
   "id": "5b50045d",
   "metadata": {},
   "outputs": [
    {
     "data": {
      "text/plain": [
       "(8124, 65)"
      ]
     },
     "execution_count": 40,
     "metadata": {},
     "output_type": "execute_result"
    }
   ],
   "source": [
    "from category_encoders import BinaryEncoder\n",
    "\n",
    "encoder_bin=BinaryEncoder(cols=list(d_temp_x.columns))\n",
    "d_bin_x=encoder_bin.fit_transform(d_temp_x)\n",
    "denc_bin=pd.concat([d_bin_x,d_temp_class],axis=1) ### Segunda codificacion\n",
    "denc_bin.shape"
   ]
  },
  {
   "cell_type": "code",
   "execution_count": 41,
   "id": "937fb648",
   "metadata": {},
   "outputs": [],
   "source": [
    "#tree=fit(d_temp_x,d_temp_class,list(d_temp_x.columns))  ### drop class en x\n"
   ]
  },
  {
   "cell_type": "code",
   "execution_count": 42,
   "id": "4d4b1de6",
   "metadata": {},
   "outputs": [],
   "source": [
    "### Método de segregación 80/20\n",
    "tr=int(len(df)*0.8)\n",
    "np.random.seed(167)\n",
    "## Sin codificar\n",
    "train_raw=df.sample(tr).reset_index(drop=True) # Prueba con \n",
    "test_raw=df[~df.isin(train_raw)].dropna().reset_index(drop=True)\n",
    "## Codificación ordinal\n",
    "train_ordinal=denc_ord.sample(tr).reset_index(drop=True)\n",
    "test_ordinal=denc_ord[~denc_ord.isin(train_ordinal)].dropna().reset_index(drop=True)\n",
    "## Codificación por frecuencias\n",
    "train_freq=denc_count.sample(tr).reset_index(drop=True)\n",
    "test_freq=denc_count[~denc_count.isin(train_freq)].dropna().reset_index(drop=True)\n",
    "## Codificación binaria\n",
    "train_bin=denc_bin.sample(tr).reset_index(drop=True)\n",
    "test_bin=denc_bin[~denc_bin.isin(train_bin)].dropna().reset_index(drop=True)\n"
   ]
  },
  {
   "cell_type": "code",
   "execution_count": 43,
   "id": "b8700c8c",
   "metadata": {},
   "outputs": [
    {
     "data": {
      "text/plain": [
       "'\\nk_values=range(1,50)\\ncross_val_scores=[]\\nX=denc_ord.drop(\\'class\\',axis=1)\\ny=denc_ord[\\'class\\']\\nfor k in k_values:\\n    knn=KNeighborsClassifier(n_neighbors=k)\\n    scores = cross_val_score(knn, X, y, cv=5) \\n    cross_val_scores.append(np.mean(scores))\\n\\nbest_k=k_values[np.argmax(cross_val_scores)]\\n\\nfor k,score in zip(k_values,cross_val_scores):\\n        print(f\"K = {k}, Puntaje promedio: {score:.4f}\")\\n\\nprint(f\"\\nMejor valor de k: {best_k}\")\\nplt.scatter(k_values,cross_val_scores)\\n'"
      ]
     },
     "execution_count": 43,
     "metadata": {},
     "output_type": "execute_result"
    }
   ],
   "source": [
    "#from sklearn.model_selection import cross_val_score\n",
    "#knn1=KNeighborsClassifier()\n",
    "\"\"\"\n",
    "k_values=range(1,50)\n",
    "cross_val_scores=[]\n",
    "X=denc_ord.drop('class',axis=1)\n",
    "y=denc_ord['class']\n",
    "for k in k_values:\n",
    "    knn=KNeighborsClassifier(n_neighbors=k)\n",
    "    scores = cross_val_score(knn, X, y, cv=5) \n",
    "    cross_val_scores.append(np.mean(scores))\n",
    "\n",
    "best_k=k_values[np.argmax(cross_val_scores)]\n",
    "\n",
    "for k,score in zip(k_values,cross_val_scores):\n",
    "        print(f\"K = {k}, Puntaje promedio: {score:.4f}\")\n",
    "\n",
    "print(f\"\\nMejor valor de k: {best_k}\")\n",
    "plt.scatter(k_values,cross_val_scores)\n",
    "\"\"\""
   ]
  },
  {
   "cell_type": "markdown",
   "id": "7160e1d2",
   "metadata": {},
   "source": [
    "## Stratified kfolds \n",
    "\n",
    "Se obtuvo de [g4g](https://www.geeksforgeeks.org/stratified-k-fold-cross-validation/)"
   ]
  },
  {
   "cell_type": "code",
   "execution_count": 44,
   "id": "c2bbf6b2",
   "metadata": {},
   "outputs": [],
   "source": [
    "from sklearn.metrics import confusion_matrix, accuracy_score, precision_score, recall_score, f1_score\n",
    "from sklearn.neighbors import KNeighborsClassifier\n",
    "from sklearn.metrics import classification_report\n",
    "from sklearn.model_selection import StratifiedKFold\n",
    "from sklearn.model_selection import cross_val_predict\n",
    "from sklearn.model_selection import cross_val_score\n",
    "skf=StratifiedKFold(n_splits=5)\n",
    "\n"
   ]
  },
  {
   "cell_type": "markdown",
   "id": "b3ff830a",
   "metadata": {},
   "source": [
    "## Codificación ordinal\n",
    "\n",
    "### Segregación"
   ]
  },
  {
   "cell_type": "code",
   "execution_count": 103,
   "id": "58fd38b2",
   "metadata": {},
   "outputs": [
    {
     "name": "stdout",
     "output_type": "stream",
     "text": [
      "              precision    recall  f1-score   support\n",
      "\n",
      "         0.0       1.00      1.00      1.00      1118\n",
      "         1.0       1.00      1.00      1.00       507\n",
      "\n",
      "    accuracy                           1.00      1625\n",
      "   macro avg       1.00      1.00      1.00      1625\n",
      "weighted avg       1.00      1.00      1.00      1625\n",
      "\n"
     ]
    }
   ],
   "source": [
    "knn_ords=KNeighborsClassifier(n_neighbors=5)\n",
    "knn_ords.fit(train_ordinal.drop('class',axis=1),train_ordinal['class'])\n",
    "y_pred_seg=knn_ords.predict(test_ordinal.drop('class',axis=1))\n",
    "report=classification_report(test_ordinal['class'],y_pred_seg)\n",
    "print(report)"
   ]
  },
  {
   "cell_type": "markdown",
   "id": "111c7947",
   "metadata": {},
   "source": [
    "## K-fold"
   ]
  },
  {
   "cell_type": "code",
   "execution_count": 104,
   "id": "18420d45",
   "metadata": {},
   "outputs": [
    {
     "name": "stdout",
     "output_type": "stream",
     "text": [
      "Informe de clasificación general:\n",
      "              precision    recall  f1-score   support\n",
      "\n",
      "           0       1.00      1.00      1.00      3916\n",
      "           1       1.00      1.00      1.00      4208\n",
      "\n",
      "    accuracy                           1.00      8124\n",
      "   macro avg       1.00      1.00      1.00      8124\n",
      "weighted avg       1.00      1.00      1.00      8124\n",
      "\n"
     ]
    }
   ],
   "source": [
    "from sklearn.model_selection import KFold\n",
    "\n",
    "\n",
    "kfold=KFold(n_splits=7,shuffle=True,random_state=13)\n",
    "knn_kfold_ord=KNeighborsClassifier(n_neighbors=5)\n",
    "#scores=cross_val_score(knn_kfold_ord,knn_ord_stf,denc_ord.drop('class',axis=1),denc_ord['class'])\n",
    "#y_pred_kfold_ord=knn_kfold_ord.fit().\n",
    "#print(scores)\n",
    "all_y_true = []\n",
    "all_y_pred = []\n",
    "for train_index,test_index in kfold.split(denc_ord.drop('class',axis=1),denc_ord['class']):\n",
    "    x_train,x_test=denc_ord.drop('class',axis=1).iloc[train_index],denc_ord.drop('class',axis=1).iloc[test_index]\n",
    "    y_train,y_test=denc_ord.iloc[train_index]['class'],denc_ord.iloc[test_index]['class']\n",
    "    \n",
    "    knn_kfold_ord.fit(x_train,y_train)\n",
    "    y_pred=knn_kfold_ord.predict(x_test)\n",
    "    report = classification_report(y_test, y_pred)\n",
    "    #print(report) ## Por si se desea observar el reporte por fold, se descomenta esto####\n",
    "    all_y_true.extend(y_test)\n",
    "    all_y_pred.extend(y_pred)\n",
    "    \n",
    "all_y_true = np.array(all_y_true)\n",
    "all_y_pred = np.array(all_y_pred)\n",
    "\n",
    "# Genera el informe de clasificación general\n",
    "report = classification_report(all_y_true, all_y_pred)\n",
    "print(\"Informe de clasificación general:\")\n",
    "print(report)"
   ]
  },
  {
   "cell_type": "markdown",
   "id": "3a484368",
   "metadata": {},
   "source": [
    "### STF"
   ]
  },
  {
   "cell_type": "code",
   "execution_count": 105,
   "id": "c45e5ca4",
   "metadata": {},
   "outputs": [
    {
     "name": "stdout",
     "output_type": "stream",
     "text": [
      "              precision    recall  f1-score   support\n",
      "\n",
      "           0       0.83      0.92      0.87      3916\n",
      "           1       0.92      0.82      0.87      4208\n",
      "\n",
      "    accuracy                           0.87      8124\n",
      "   macro avg       0.88      0.87      0.87      8124\n",
      "weighted avg       0.88      0.87      0.87      8124\n",
      "\n"
     ]
    },
    {
     "data": {
      "text/plain": [
       "Text(0.5, 1.0, 'Matriz de Confusión de STF codificación ordinal')"
      ]
     },
     "execution_count": 105,
     "metadata": {},
     "output_type": "execute_result"
    },
    {
     "data": {
      "image/png": "[encoded data removed]",
      "text/plain": [
       "<Figure size 640x480 with 2 Axes>"
      ]
     },
     "metadata": {},
     "output_type": "display_data"
    }
   ],
   "source": [
    "skf_ord=StratifiedKFold(n_splits=7)\n",
    "knn_ord_stf=KNeighborsClassifier(n_neighbors=5)\n",
    "y_pred_ord_stf=cross_val_predict(knn_ord_stf,denc_ord.drop('class',axis=1),denc_ord['class'])\n",
    "rep_ord_stf=classification_report(denc_ord['class'],y_pred_ord_stf)\n",
    "print(rep_ord_stf)\n",
    "confusion = confusion_matrix(y_pred_ord_stf, denc_ord['class'])\n",
    "sns.heatmap(confusion,annot=True, fmt='d', cmap='Blues')\n",
    "plt.xlabel('Clase Predicha')\n",
    "plt.ylabel('Clase Real')\n",
    "plt.title('Matriz de Confusión de STF codificación ordinal')"
   ]
  },
  {
   "cell_type": "markdown",
   "id": "42e76976",
   "metadata": {},
   "source": [
    "## Codificación frecuencias normalizadas\n",
    "\n",
    "### Segregación"
   ]
  },
  {
   "cell_type": "code",
   "execution_count": 106,
   "id": "f13b8213",
   "metadata": {},
   "outputs": [
    {
     "name": "stdout",
     "output_type": "stream",
     "text": [
      "              precision    recall  f1-score   support\n",
      "\n",
      "         0.0       1.00      1.00      1.00      1118\n",
      "         1.0       1.00      1.00      1.00       507\n",
      "\n",
      "    accuracy                           1.00      1625\n",
      "   macro avg       1.00      1.00      1.00      1625\n",
      "weighted avg       1.00      1.00      1.00      1625\n",
      "\n"
     ]
    }
   ],
   "source": [
    "knn_frec=KNeighborsClassifier(n_neighbors=5)\n",
    "knn_frec.fit(train_freq.drop('class',axis=1),train_freq['class'])\n",
    "y_pred_seg=knn_frec.predict(test_freq.drop('class',axis=1))\n",
    "report=classification_report(test_freq['class'],y_pred_seg)\n",
    "print(report)"
   ]
  },
  {
   "cell_type": "markdown",
   "id": "49157504",
   "metadata": {},
   "source": [
    "### K-folds"
   ]
  },
  {
   "cell_type": "code",
   "execution_count": 107,
   "id": "d456b3dd",
   "metadata": {},
   "outputs": [
    {
     "name": "stdout",
     "output_type": "stream",
     "text": [
      "Informe de clasificación general:\n",
      "              precision    recall  f1-score   support\n",
      "\n",
      "           0       1.00      1.00      1.00      3916\n",
      "           1       1.00      1.00      1.00      4208\n",
      "\n",
      "    accuracy                           1.00      8124\n",
      "   macro avg       1.00      1.00      1.00      8124\n",
      "weighted avg       1.00      1.00      1.00      8124\n",
      "\n"
     ]
    }
   ],
   "source": [
    "kfold=KFold(n_splits=7,shuffle=True,random_state=13)\n",
    "knn_kfold_count=KNeighborsClassifier(n_neighbors=5)\n",
    "#scores=cross_val_score(knn_kfold_ord,knn_ord_stf,denc_ord.drop('class',axis=1),denc_ord['class'])\n",
    "#y_pred_kfold_ord=knn_kfold_ord.fit().\n",
    "#print(scores)\n",
    "all_y_true = []\n",
    "all_y_pred = []\n",
    "for train_index,test_index in kfold.split(denc_count.drop('class',axis=1),denc_count['class']):\n",
    "    x_train,x_test=denc_count.drop('class',axis=1).iloc[train_index],denc_count.drop('class',axis=1).iloc[test_index]\n",
    "    y_train,y_test=denc_count.iloc[train_index]['class'],denc_count.iloc[test_index]['class']\n",
    "    \n",
    "    knn_kfold_count.fit(x_train,y_train)\n",
    "    y_pred=knn_kfold_count.predict(x_test)\n",
    "    report = classification_report(y_test, y_pred)\n",
    "    #print(report) ## Por si se desea observar el reporte por fold, se descomenta esto####\n",
    "    all_y_true.extend(y_test)\n",
    "    all_y_pred.extend(y_pred)\n",
    "    \n",
    "all_y_true = np.array(all_y_true)\n",
    "all_y_pred = np.array(all_y_pred)\n",
    "\n",
    "# Genera el informe de clasificación general\n",
    "report = classification_report(all_y_true, all_y_pred)\n",
    "print(\"Informe de clasificación general:\")\n",
    "print(report)"
   ]
  },
  {
   "cell_type": "markdown",
   "id": "b284291a",
   "metadata": {},
   "source": [
    "### STF"
   ]
  },
  {
   "cell_type": "code",
   "execution_count": 108,
   "id": "9d978c66",
   "metadata": {},
   "outputs": [
    {
     "name": "stdout",
     "output_type": "stream",
     "text": [
      "              precision    recall  f1-score   support\n",
      "\n",
      "           0       0.85      0.93      0.89      3916\n",
      "           1       0.92      0.85      0.89      4208\n",
      "\n",
      "    accuracy                           0.89      8124\n",
      "   macro avg       0.89      0.89      0.89      8124\n",
      "weighted avg       0.89      0.89      0.89      8124\n",
      "\n"
     ]
    },
    {
     "data": {
      "text/plain": [
       "Text(0.5, 1.0, 'Matriz de Confusión de STF codificación de frecuencia normalizada')"
      ]
     },
     "execution_count": 108,
     "metadata": {},
     "output_type": "execute_result"
    },
    {
     "data": {
      "image/png": "[encoded data removed]",
      "text/plain": [
       "<Figure size 640x480 with 2 Axes>"
      ]
     },
     "metadata": {},
     "output_type": "display_data"
    }
   ],
   "source": [
    "skf_count=StratifiedKFold(n_splits=7)\n",
    "knn_count_stf=KNeighborsClassifier(n_neighbors=5)\n",
    "y_pred_count_stf=cross_val_predict(knn_count_stf,denc_count.drop('class',axis=1),denc_count['class'])\n",
    "rep_count_stf=classification_report(denc_count['class'],y_pred_count_stf)\n",
    "print(rep_count_stf)\n",
    "confusion = confusion_matrix(y_pred_count_stf, denc_count['class'])\n",
    "sns.heatmap(confusion,annot=True, fmt='d', cmap='Blues')\n",
    "plt.xlabel('Clase Predicha')\n",
    "plt.ylabel('Clase Real')\n",
    "plt.title('Matriz de Confusión de STF codificación de frecuencia normalizada')"
   ]
  },
  {
   "cell_type": "markdown",
   "id": "cc531e5b",
   "metadata": {},
   "source": [
    "## Codificación binaria\n",
    "\n",
    "### segregación"
   ]
  },
  {
   "cell_type": "code",
   "execution_count": 112,
   "id": "3afcde01",
   "metadata": {},
   "outputs": [
    {
     "name": "stdout",
     "output_type": "stream",
     "text": [
      "              precision    recall  f1-score   support\n",
      "\n",
      "         0.0       1.00      1.00      1.00      1118\n",
      "         1.0       1.00      1.00      1.00       507\n",
      "\n",
      "    accuracy                           1.00      1625\n",
      "   macro avg       1.00      1.00      1.00      1625\n",
      "weighted avg       1.00      1.00      1.00      1625\n",
      "\n"
     ]
    }
   ],
   "source": [
    "knn_bin=KNeighborsClassifier(n_neighbors=9)\n",
    "knn_bin.fit(train_bin.drop('class',axis=1),train_bin['class'])\n",
    "y_pred_seg=knn_bin.predict(test_bin.drop('class',axis=1))\n",
    "report=classification_report(test_bin['class'],y_pred_seg)\n",
    "print(report)"
   ]
  },
  {
   "cell_type": "markdown",
   "id": "ed32b3f5",
   "metadata": {},
   "source": [
    "### Kfolds"
   ]
  },
  {
   "cell_type": "code",
   "execution_count": 113,
   "id": "9275d588",
   "metadata": {},
   "outputs": [
    {
     "name": "stdout",
     "output_type": "stream",
     "text": [
      "Informe de clasificación general:\n",
      "              precision    recall  f1-score   support\n",
      "\n",
      "           0       1.00      1.00      1.00      3916\n",
      "           1       1.00      1.00      1.00      4208\n",
      "\n",
      "    accuracy                           1.00      8124\n",
      "   macro avg       1.00      1.00      1.00      8124\n",
      "weighted avg       1.00      1.00      1.00      8124\n",
      "\n"
     ]
    }
   ],
   "source": [
    "kfold=KFold(n_splits=11,shuffle=True,random_state=13)\n",
    "knn_kfold_bin=KNeighborsClassifier(n_neighbors=9)\n",
    "#scores=cross_val_score(knn_kfold_ord,knn_ord_stf,denc_ord.drop('class',axis=1),denc_ord['class'])\n",
    "#y_pred_kfold_ord=knn_kfold_ord.fit().\n",
    "#print(scores)\n",
    "all_y_true = []\n",
    "all_y_pred = []\n",
    "for train_index,test_index in kfold.split(denc_bin.drop('class',axis=1),denc_bin['class']):\n",
    "    x_train,x_test=denc_bin.drop('class',axis=1).iloc[train_index],denc_bin.drop('class',axis=1).iloc[test_index]\n",
    "    y_train,y_test=denc_bin.iloc[train_index]['class'],denc_bin.iloc[test_index]['class']\n",
    "    \n",
    "    knn_kfold_bin.fit(x_train,y_train)\n",
    "    y_pred=knn_kfold_bin.predict(x_test)\n",
    "    report = classification_report(y_test, y_pred)\n",
    "    #print(report) ## Por si se desea observar el reporte por fold, se descomenta esto####\n",
    "    all_y_true.extend(y_test)\n",
    "    all_y_pred.extend(y_pred)\n",
    "    \n",
    "all_y_true = np.array(all_y_true)\n",
    "all_y_pred = np.array(all_y_pred)\n",
    "\n",
    "# Genera el informe de clasificación general\n",
    "report = classification_report(all_y_true, all_y_pred)\n",
    "print(\"Informe de clasificación general:\")\n",
    "print(report)"
   ]
  },
  {
   "cell_type": "code",
   "execution_count": 114,
   "id": "314584b3",
   "metadata": {},
   "outputs": [
    {
     "name": "stdout",
     "output_type": "stream",
     "text": [
      "              precision    recall  f1-score   support\n",
      "\n",
      "           0       0.90      0.94      0.92      3916\n",
      "           1       0.94      0.90      0.92      4208\n",
      "\n",
      "    accuracy                           0.92      8124\n",
      "   macro avg       0.92      0.92      0.92      8124\n",
      "weighted avg       0.92      0.92      0.92      8124\n",
      "\n"
     ]
    },
    {
     "data": {
      "text/plain": [
       "Text(0.5, 1.0, 'Matriz de Confusión de STF codificación binaria')"
      ]
     },
     "execution_count": 114,
     "metadata": {},
     "output_type": "execute_result"
    },
    {
     "data": {
      "image/png": "[encoded data removed]",
      "text/plain": [
       "<Figure size 640x480 with 2 Axes>"
      ]
     },
     "metadata": {},
     "output_type": "display_data"
    }
   ],
   "source": [
    "skf_bin=StratifiedKFold(n_splits=11)\n",
    "knn_bin_stf=KNeighborsClassifier(n_neighbors=9)\n",
    "y_pred_bin_stf=cross_val_predict(knn_bin_stf,denc_bin.drop('class',axis=1),denc_bin['class'])\n",
    "rep_bin_stf=classification_report(denc_bin['class'],y_pred_bin_stf)\n",
    "print(rep_bin_stf)\n",
    "confusion = confusion_matrix(y_pred_bin_stf, denc_bin['class'])\n",
    "sns.heatmap(confusion,annot=True, fmt='d', cmap='Blues')\n",
    "plt.xlabel('Clase Predicha')\n",
    "plt.ylabel('Clase Real')\n",
    "plt.title('Matriz de Confusión de STF codificación binaria')"
   ]
  },
  {
   "cell_type": "markdown",
   "id": "a4c866b6",
   "metadata": {},
   "source": [
    "# Arboles de decisión (ID3)"
   ]
  },
  {
   "cell_type": "code",
   "execution_count": 54,
   "id": "ec0b246f",
   "metadata": {},
   "outputs": [],
   "source": [
    "def entropy(y):\n",
    "    # Calcular la entropía del conjunto de datos\n",
    "    _, counts = np.unique(y, return_counts=True)\n",
    "    probabilities = counts / len(y)\n",
    "    entropy = -np.sum(probabilities * np.log2(probabilities))\n",
    "    return entropy\n",
    "\n",
    "def information_gain(df, target_col, feature_col):\n",
    "    # Calcular la ganancia de información para una característica específica\n",
    "    entropy_before = entropy(df[target_col])\n",
    "    _, counts = np.unique(df[feature_col], return_counts=True)\n",
    "    probabilities = counts / len(df)\n",
    "\n",
    "    entropy_after = 0\n",
    "    for value, probability in zip(df[feature_col], probabilities):\n",
    "        subset_df = df[df[feature_col] == value]\n",
    "        subset_y = subset_df[target_col]\n",
    "        entropy_after += probability * entropy(subset_y)\n",
    "\n",
    "    information_gain = entropy_before - entropy_after\n",
    "    return information_gain\n",
    "\n",
    "def best_feature(df, target_col):\n",
    "    # Encontrar la mejor característica para dividir el conjunto de datos\n",
    "    num_features = len(df.columns) - 1\n",
    "    best_feature = None\n",
    "    best_information_gain = -1\n",
    "\n",
    "    for feature in df.columns[:-1]:\n",
    "        information_gain_value = information_gain(df, target_col, feature)\n",
    "        if information_gain_value > best_information_gain:\n",
    "            best_information_gain = information_gain_value\n",
    "            best_feature = feature\n",
    "\n",
    "    return best_feature\n",
    "\n",
    "def fit(df, target_col):\n",
    "    # Construir el árbol de decisión mediante el algoritmo ID3 recursivo\n",
    "    tree = {}\n",
    "\n",
    "    if len(df[target_col].unique()) == 1:\n",
    "        # Si todas las muestras tienen la misma clase, establecerla como la clase de la hoja\n",
    "        tree['label'] = df[target_col].iloc[0]\n",
    "        return tree\n",
    "\n",
    "    if len(df.columns) == 1:\n",
    "        # Si no quedan características para dividir, establecer la clase mayoritaria como la clase de la hoja\n",
    "        majority_class = df[target_col].value_counts().idxmax()\n",
    "        tree['label'] = majority_class\n",
    "        return tree\n",
    "\n",
    "    best_feature_col = best_feature(df, target_col)\n",
    "\n",
    "    tree['feature'] = best_feature_col\n",
    "    tree['children'] = {}\n",
    "\n",
    "    unique_values = df[best_feature_col].unique()\n",
    "    for value in unique_values:\n",
    "        subset_df = df[df[best_feature_col] == value]\n",
    "        if len(subset_df) == 0:\n",
    "            majority_class = df[target_col].value_counts().idxmax()\n",
    "            tree['children'][value] = {'label': majority_class}\n",
    "        else:\n",
    "            subset_df = subset_df.drop(columns=best_feature_col)\n",
    "            tree['children'][value] = fit(subset_df, target_col)\n",
    "\n",
    "    return tree\n",
    "\n",
    "def predict_instance(tree, instance):\n",
    "    # Predecir la clase de una instancia utilizando el árbol de decisión\n",
    "    current_node = tree\n",
    "    while 'label' not in current_node:\n",
    "        feature = current_node['feature']\n",
    "        feature_value = instance[feature]\n",
    "        if feature_value not in current_node['children']:\n",
    "            return None\n",
    "        current_node = current_node['children'][feature_value]\n",
    "    return current_node['label']\n",
    "\n",
    "def predict_dataframe(tree, df):\n",
    "    # Predecir la clase de un DataFrame de atributos utilizando el árbol de decisión\n",
    "    predictions = []\n",
    "    for _, instance in df.iterrows():\n",
    "        prediction = predict_instance(tree, instance)\n",
    "        predictions.append(prediction)\n",
    "    return predictions"
   ]
  },
  {
   "cell_type": "code",
   "execution_count": 55,
   "id": "b4d5225e",
   "metadata": {},
   "outputs": [],
   "source": [
    "#import pandas as pd\n",
    "def calculate_node_entropies(tree, df, target_col):\n",
    "    node_entropies = {}\n",
    "\n",
    "    def traverse_tree(node, path):\n",
    "        if 'label' in node:\n",
    "            return\n",
    "\n",
    "        feature = node['feature']\n",
    "        children = node['children']\n",
    "\n",
    "        for value, child in children.items():\n",
    "            if 'label' in child:\n",
    "                continue\n",
    "\n",
    "            new_path = path + [(feature, value)]\n",
    "            traverse_tree(child, new_path)\n",
    "\n",
    "        if feature not in node_entropies:\n",
    "            node_entropies[feature] = {}\n",
    "\n",
    "        node_entropies[feature][tuple(path)] = entropy(df[target_col])\n",
    "\n",
    "    traverse_tree(tree, [])\n",
    "    \n",
    "    # Create a DataFrame from the node_entropies dictionary\n",
    "    df_entropies = pd.DataFrame(node_entropies).T\n",
    "    df_entropies.index.name = 'Node'\n",
    "    df_entropies.columns.names = ['Feature', 'Path']\n",
    "    \n",
    "    return df_entropies"
   ]
  },
  {
   "cell_type": "code",
   "execution_count": 56,
   "id": "9cdb5880",
   "metadata": {},
   "outputs": [],
   "source": [
    "tree=fit(train_raw,'class')\n",
    "res_raw_tree=predict_dataframe(tree,test_raw.drop('class',axis=1))\n",
    "res_raw_tree=pd.DataFrame(res_raw_tree,columns=['class'])"
   ]
  },
  {
   "cell_type": "code",
   "execution_count": 57,
   "id": "1b2d2f54",
   "metadata": {},
   "outputs": [
    {
     "data": {
      "text/plain": [
       "{'feature': 'odor',\n",
       " 'children': {'n': {'feature': 'stalk-shape',\n",
       "   'children': {'t': {'label': 'e'},\n",
       "    'e': {'feature': 'habitat',\n",
       "     'children': {'l': {'feature': 'cap-surface',\n",
       "       'children': {'s': {'label': 'e'},\n",
       "        'y': {'feature': 'cap-color',\n",
       "         'children': {'n': {'label': 'e'},\n",
       "          'y': {'label': 'p'},\n",
       "          'w': {'label': 'p'},\n",
       "          'c': {'label': 'e'}}},\n",
       "        'f': {'label': 'e'},\n",
       "        'g': {'label': 'p'}}},\n",
       "      'w': {'label': 'e'},\n",
       "      'p': {'label': 'e'},\n",
       "      'm': {'label': 'p'},\n",
       "      'g': {'feature': 'bruises',\n",
       "       'children': {'f': {'label': 'e'}, 't': {'label': 'p'}}},\n",
       "      'u': {'label': 'e'},\n",
       "      'd': {'feature': 'ssar',\n",
       "       'children': {'k': {'label': 'p'},\n",
       "        's': {'label': 'e'},\n",
       "        'y': {'label': 'e'}}}}}}},\n",
       "  'a': {'label': 'e'},\n",
       "  'f': {'label': 'p'},\n",
       "  'l': {'label': 'e'},\n",
       "  's': {'label': 'p'},\n",
       "  'y': {'label': 'p'},\n",
       "  'p': {'label': 'p'},\n",
       "  'c': {'label': 'p'},\n",
       "  'm': {'label': 'p'}}}"
      ]
     },
     "execution_count": 57,
     "metadata": {},
     "output_type": "execute_result"
    }
   ],
   "source": [
    "tree\n"
   ]
  },
  {
   "cell_type": "code",
   "execution_count": 58,
   "id": "763019da",
   "metadata": {},
   "outputs": [
    {
     "name": "stdout",
     "output_type": "stream",
     "text": [
      "              precision    recall  f1-score   support\n",
      "\n",
      "           e       1.00      1.00      1.00       507\n",
      "           p       1.00      1.00      1.00      1118\n",
      "\n",
      "    accuracy                           1.00      1625\n",
      "   macro avg       1.00      1.00      1.00      1625\n",
      "weighted avg       1.00      1.00      1.00      1625\n",
      "\n"
     ]
    }
   ],
   "source": [
    "confusion = confusion_matrix(res_raw_tree, test_raw['class'])\n",
    "report_tree=classification_report(test_raw['class'],res_raw_tree)\n",
    "print(report_tree)"
   ]
  },
  {
   "cell_type": "code",
   "execution_count": 59,
   "id": "bd24d56d",
   "metadata": {},
   "outputs": [
    {
     "data": {
      "text/plain": [
       "Text(0.5, 1.0, 'Matriz de Confusión')"
      ]
     },
     "execution_count": 59,
     "metadata": {},
     "output_type": "execute_result"
    },
    {
     "data": {
      "image/png": "[encoded data removed]",
      "text/plain": [
       "<Figure size 640x480 with 2 Axes>"
      ]
     },
     "metadata": {},
     "output_type": "display_data"
    }
   ],
   "source": [
    "sns.heatmap(confusion,annot=True, fmt='d', cmap='Blues')\n",
    "plt.xlabel('Clase Predicha')\n",
    "plt.ylabel('Clase Real')\n",
    "plt.title('Matriz de Confusión')"
   ]
  },
  {
   "cell_type": "code",
   "execution_count": 60,
   "id": "45bd8474",
   "metadata": {},
   "outputs": [
    {
     "data": {
      "text/plain": [
       "array([[ 507,    0],\n",
       "       [   0, 1118]], dtype=int64)"
      ]
     },
     "execution_count": 60,
     "metadata": {},
     "output_type": "execute_result"
    }
   ],
   "source": [
    "confusion"
   ]
  },
  {
   "cell_type": "code",
   "execution_count": 64,
   "id": "dba6e3cd",
   "metadata": {},
   "outputs": [
    {
     "data": {
      "text/plain": [
       "d    3148\n",
       "g    2148\n",
       "p    1144\n",
       "l     832\n",
       "u     368\n",
       "m     292\n",
       "w     192\n",
       "Name: habitat, dtype: int64"
      ]
     },
     "execution_count": 64,
     "metadata": {},
     "output_type": "execute_result"
    }
   ],
   "source": [
    "df['habitat'].value_counts()"
   ]
  },
  {
   "cell_type": "code",
   "execution_count": 67,
   "id": "5794d8bc",
   "metadata": {},
   "outputs": [
    {
     "data": {
      "text/plain": [
       "f    4748\n",
       "t    3376\n",
       "Name: bruises, dtype: int64"
      ]
     },
     "execution_count": 67,
     "metadata": {},
     "output_type": "execute_result"
    }
   ],
   "source": [
    "df['bruises'].value_counts()"
   ]
  },
  {
   "cell_type": "code",
   "execution_count": null,
   "id": "62f64ed6",
   "metadata": {},
   "outputs": [],
   "source": []
  }
 ],
 "metadata": {
  "kernelspec": {
   "display_name": "Python 3 (ipykernel)",
   "language": "python",
   "name": "python3"
  },
  "language_info": {
   "codemirror_mode": {
    "name": "ipython",
    "version": 3
   },
   "file_extension": ".py",
   "mimetype": "text/x-python",
   "name": "python",
   "nbconvert_exporter": "python",
   "pygments_lexer": "ipython3",
   "version": "3.9.12"
  }
 },
 "nbformat": 4,
 "nbformat_minor": 5
}
