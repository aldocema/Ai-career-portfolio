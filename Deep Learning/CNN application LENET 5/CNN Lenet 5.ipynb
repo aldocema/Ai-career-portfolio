{
 "cells": [
  {
   "cell_type": "markdown",
   "metadata": {
    "id": "bJn_q_649ITp"
   },
   "source": [
    "Uso de librerias correspondientes para el desarrollo del proyecto"
   ]
  },
  {
   "cell_type": "code",
   "execution_count": 29,
   "metadata": {
    "id": "YR6aAj8g9HrO"
   },
   "outputs": [],
   "source": [
    "import tensorflow as tf\n",
    "from tensorflow.keras.layers import Input\n",
    "from tensorflow.keras.models import Model\n",
    "import numpy as np\n",
    "from sklearn.model_selection import train_test_split#60,20,20\n",
    "import matplotlib.pyplot as plt\n",
    "import matplotlib.image as mpimg\n",
    "(X,Y),(X1,Y1)=tf.keras.datasets.mnist.load_data()"
   ]
  },
  {
   "cell_type": "code",
   "execution_count": 30,
   "metadata": {
    "id": "eRHdHRsw9MKu"
   },
   "outputs": [
    {
     "data": {
      "text/plain": [
       "(60000, 28, 28)"
      ]
     },
     "execution_count": 30,
     "metadata": {},
     "output_type": "execute_result"
    }
   ],
   "source": [
    "X.shape"
   ]
  },
  {
   "cell_type": "markdown",
   "metadata": {
    "id": "UyFp2Itx9AyS"
   },
   "source": [
    "Se observa una dimensión de 28x28 pero se ajustará a 32x32 como en el articulo"
   ]
  },
  {
   "cell_type": "code",
   "execution_count": 31,
   "metadata": {
    "id": "LasfVbhJ9Qgd"
   },
   "outputs": [
    {
     "name": "stdout",
     "output_type": "stream",
     "text": [
      "(60000, 32, 32)\n",
      "(10000, 32, 32)\n"
     ]
    }
   ],
   "source": [
    "x_conv_t=np.pad(X,pad_width=(((0,0),(2,2),(2,2))))\n",
    "x_conv_p=np.pad(X1,pad_width=((0,0),(2,2),(2,2)))\n",
    "print(x_conv_t.shape)\n",
    "print(x_conv_p.shape)\n",
    "# Se debe agregar un 1 al final para agregar el unico canal\n",
    "x_conv_t=x_conv_t.reshape(x_conv_t.shape[0],32,32,1)\n",
    "x_conv_p=x_conv_p.reshape(x_conv_p.shape[0],32,32,1)"
   ]
  },
  {
   "cell_type": "markdown",
   "metadata": {
    "id": "NFjyycYsDWQp"
   },
   "source": [
    "Se realizará una normalización de los valores al intervalo de $[0,1]$ \n",
    "$$x_{norm}[a,b]=(b-a)\\frac{x-x_{min}}{x_{max}-x_{min}}+a$$\n",
    "\n",
    "para posteriormente, realizar la configuración de ONE HOT. "
   ]
  },
  {
   "cell_type": "code",
   "execution_count": 32,
   "metadata": {
    "id": "dxkDILwo9Qil"
   },
   "outputs": [
    {
     "name": "stdout",
     "output_type": "stream",
     "text": [
      "1.0 1.0\n",
      "4\n",
      "[0. 0. 0. 0. 1. 0. 0. 0. 0. 0.]\n",
      "3\n",
      "[0. 0. 0. 1. 0. 0. 0. 0. 0. 0.]\n",
      "(60000, 32, 32, 1) (60000, 10)\n",
      "(10000, 32, 32, 1) (10000, 10)\n"
     ]
    }
   ],
   "source": [
    "x_conv_t=(x_conv_t/x_conv_t.max())\n",
    "x_conv_p=(x_conv_p/x_conv_p.max())\n",
    "print(x_conv_t.max(),x_conv_p.max())\n",
    "## ONE  Hot\n",
    "from tensorflow.keras.utils import to_categorical\n",
    "print(Y[3450])\n",
    "\n",
    "yt_oh=to_categorical(Y,Y.max()+1)\n",
    "yp_oh=to_categorical(Y1,Y1.max()+1)\n",
    "print(yt_oh[3450])\n",
    "print(Y1[200])\n",
    "print(yp_oh[200])\n",
    "#### Verificando dimensiones\n",
    "print(x_conv_t.shape, yt_oh.shape)\n",
    "print(x_conv_p.shape,yp_oh.shape)"
   ]
  },
  {
   "cell_type": "markdown",
   "metadata": {
    "id": "kJT_li7UHbJY"
   },
   "source": [
    "Una vez lista las las normalizaciones adecuadas, se plantea la estructura de la red convolucional.\n",
    "\n",
    "## Empezando por **C1**"
   ]
  },
  {
   "cell_type": "code",
   "execution_count": 33,
   "metadata": {
    "id": "M0TDAFWq9Qks"
   },
   "outputs": [],
   "source": [
    "from tensorflow.keras.models import Sequential\n",
    "from tensorflow.keras.layers import Dense\n",
    "\n",
    "model=Sequential()\n",
    "model.add(tf.keras.layers.Conv2D(6,(5,5),input_shape=(32,32,1),activation='tanh',padding='valid',strides=1)) #C1\n"
   ]
  },
  {
   "cell_type": "markdown",
   "metadata": {
    "id": "tCXv2KdaLXu3"
   },
   "source": [
    "# **S2** "
   ]
  },
  {
   "cell_type": "code",
   "execution_count": 34,
   "metadata": {
    "id": "bRnm_Alf9Qmc"
   },
   "outputs": [],
   "source": [
    "model.add(tf.keras.layers.AveragePooling2D(pool_size=(2,2))) #S2"
   ]
  },
  {
   "cell_type": "markdown",
   "metadata": {
    "id": "UP1iRx17Nxq1"
   },
   "source": [
    "# C3"
   ]
  },
  {
   "cell_type": "code",
   "execution_count": 35,
   "metadata": {
    "id": "JqUR3GNn9QoV"
   },
   "outputs": [],
   "source": [
    "model.add(tf.keras.layers.Conv2D(16,(5,5),activation='tanh',padding='valid',strides=1)) #c3"
   ]
  },
  {
   "cell_type": "markdown",
   "metadata": {
    "id": "nwaalnCyQSsS"
   },
   "source": [
    "# S4"
   ]
  },
  {
   "cell_type": "code",
   "execution_count": 36,
   "metadata": {
    "id": "doEENu4QQbF6"
   },
   "outputs": [],
   "source": [
    "model.add(tf.keras.layers.AveragePooling2D(pool_size=(2,2))) #s4\n",
    "model.add(tf.keras.layers.Flatten())"
   ]
  },
  {
   "cell_type": "markdown",
   "metadata": {
    "id": "4UXRnO3hQ9u5"
   },
   "source": [
    "# C5,C6"
   ]
  },
  {
   "cell_type": "code",
   "execution_count": 37,
   "metadata": {
    "id": "wK42Z_WxRABR"
   },
   "outputs": [],
   "source": [
    "model.add(Dense(120,activation='tanh')) #c5\n",
    "model.add(Dense(84,activation='tanh')) #c6\n"
   ]
  },
  {
   "cell_type": "markdown",
   "metadata": {
    "id": "GVNsU1KhRsRB"
   },
   "source": [
    "Para el caso de **C7** que es la salida, se comenta que la estructura de la red es de forma RBF, el cual tiene la siguiente estructura:\n",
    "\n",
    "$$y_i=\\sum_j (x_j-\\omega_{ij})^2 $$\n",
    "\n",
    "Se encontró un código que permite caracterizar este tipo de neurona.\n",
    "\n",
    "Obtenido de: https://stackoverflow.com/questions/53855941/how-to-implement-rbf-activation-function-in-keras\n"
   ]
  },
  {
   "cell_type": "code",
   "execution_count": 38,
   "metadata": {
    "id": "jbo1fri29QqU"
   },
   "outputs": [],
   "source": [
    "from keras.layers import Layer\n",
    "from keras import backend as K\n",
    "\n",
    "class RBFLayer(Layer):\n",
    "    def __init__(self, units, gamma, **kwargs):\n",
    "        super(RBFLayer, self).__init__(**kwargs)\n",
    "        self.units = units\n",
    "        self.gamma = K.cast_to_floatx(gamma)\n",
    "\n",
    "    def build(self, input_shape):\n",
    "        self.mu = self.add_weight(name='mu',\n",
    "                                  shape=(int(input_shape[1]), self.units),\n",
    "                                  initializer='uniform',\n",
    "                                  trainable=True)\n",
    "        super(RBFLayer, self).build(input_shape)\n",
    "\n",
    "    def call(self, inputs):\n",
    "        diff = K.expand_dims(inputs) - self.mu\n",
    "        l2 = K.sum(K.pow(diff,2), axis=1)\n",
    "        res = K.exp(-1 * self.gamma * l2)\n",
    "        return res\n",
    "\n",
    "    def compute_output_shape(self, input_shape):\n",
    "        return (input_shape[0], self.units)"
   ]
  },
  {
   "cell_type": "markdown",
   "metadata": {
    "id": "NXUODj9ySi1R"
   },
   "source": [
    "# Agregando C7"
   ]
  },
  {
   "cell_type": "code",
   "execution_count": 39,
   "metadata": {
    "id": "Qh6htdXv9QsV"
   },
   "outputs": [],
   "source": [
    "model.add(RBFLayer(10,0.5)) #c7\n",
    "#model.add(Dense(10,activation='softmax')) #c7"
   ]
  },
  {
   "cell_type": "markdown",
   "metadata": {
    "id": "1KrWn--nUPRB"
   },
   "source": [
    "Posteriormente se compila el modelo con las funciones de perdida y el optimizador, el cual nos indica el articulo que es: \n",
    "\n",
    "Función de perdida (similitud con la entropía cruzada)\n",
    "$$ E(W)=\\frac{1}{P}\\sum_{p=1}^P (yD^p(Z^p,W)+log(e^{-j}+\\sum_i e^{-y_i(Z^p,W)})) $$\n",
    "Cuya intención es hacer competir a las clases y penalizarlas.  \n",
    "\n",
    "**Optimizador (Gradiente descendiente y/o Adam)**\n"
   ]
  },
  {
   "cell_type": "code",
   "execution_count": 40,
   "metadata": {
    "id": "7FPBjOtMWZbg"
   },
   "outputs": [
    {
     "name": "stdout",
     "output_type": "stream",
     "text": [
      "Model: \"sequential_2\"\n",
      "_________________________________________________________________\n",
      "Layer (type)                 Output Shape              Param #   \n",
      "=================================================================\n",
      "conv2d_4 (Conv2D)            (None, 28, 28, 6)         156       \n",
      "_________________________________________________________________\n",
      "average_pooling2d_4 (Average (None, 14, 14, 6)         0         \n",
      "_________________________________________________________________\n",
      "conv2d_5 (Conv2D)            (None, 10, 10, 16)        2416      \n",
      "_________________________________________________________________\n",
      "average_pooling2d_5 (Average (None, 5, 5, 16)          0         \n",
      "_________________________________________________________________\n",
      "flatten_2 (Flatten)          (None, 400)               0         \n",
      "_________________________________________________________________\n",
      "dense_4 (Dense)              (None, 120)               48120     \n",
      "_________________________________________________________________\n",
      "dense_5 (Dense)              (None, 84)                10164     \n",
      "_________________________________________________________________\n",
      "rbf_layer_2 (RBFLayer)       (None, 10)                840       \n",
      "=================================================================\n",
      "Total params: 61,696\n",
      "Trainable params: 61,696\n",
      "Non-trainable params: 0\n",
      "_________________________________________________________________\n"
     ]
    }
   ],
   "source": [
    "model.compile(loss='categorical_crossentropy',optimizer=tf.keras.optimizers.SGD(learning_rate=0.25),metrics=['accuracy'])\n",
    "model.summary()\n"
   ]
  },
  {
   "cell_type": "markdown",
   "metadata": {
    "id": "H5xMza4AW8Vh"
   },
   "source": [
    "# Entrenamiento\n",
    "\n",
    "Debido a la alta cantidad de datos, se realizará un batch para poder tener una muestra significativa de los valores"
   ]
  },
  {
   "cell_type": "code",
   "execution_count": 41,
   "metadata": {
    "id": "_O2ZLfUQXKJM"
   },
   "outputs": [
    {
     "name": "stdout",
     "output_type": "stream",
     "text": [
      "21\n",
      "(21, 32, 32, 1) (21, 10)\n",
      "Epoch 1/3\n",
      "938/938 [==============================] - 45s 46ms/step - loss: 0.2407 - accuracy: 0.9277\n",
      "Epoch 2/3\n",
      "938/938 [==============================] - 41s 43ms/step - loss: 0.0754 - accuracy: 0.9767\n",
      "Epoch 3/3\n",
      "938/938 [==============================] - 40s 42ms/step - loss: 0.0507 - accuracy: 0.9842\n",
      "Tiempo de entrenamiento 125.24375748634338\n"
     ]
    }
   ],
   "source": [
    "import time\n",
    "import random\n",
    "m=random.randint(1,1000)\n",
    "print(m)\n",
    "print(x_conv_p[0:m,:,:].shape,yp_oh[0:m,:].shape)\n",
    "t1=time.time()\n",
    "model.fit(x_conv_t,yt_oh,epochs=3,verbose=1,batch_size=64)\n",
    "t2=time.time()\n",
    "print('Tiempo de entrenamiento', t2-t1)"
   ]
  },
  {
   "cell_type": "markdown",
   "metadata": {
    "id": "z-LBWtpra03w"
   },
   "source": [
    "# Prueba (Test)"
   ]
  },
  {
   "cell_type": "code",
   "execution_count": 42,
   "metadata": {
    "id": "kxwqwryxa5dW"
   },
   "outputs": [
    {
     "name": "stdout",
     "output_type": "stream",
     "text": [
      "exactitud de la prueba=  98.34 %\n"
     ]
    }
   ],
   "source": [
    "pred=model.predict(x_conv_p)\n",
    "pred=np.argmax(pred,axis=1)\n",
    "#label=np.argmax(yp_oh)\n",
    "exactitud_test=0\n",
    "for a in range(len(pred)):\n",
    "    if pred[a]==Y1[a]:\n",
    "        exactitud_test+=1\n",
    "print('exactitud de la prueba= ',100*exactitud_test/len(pred),'%')"
   ]
  },
  {
   "cell_type": "code",
   "execution_count": null,
   "metadata": {},
   "outputs": [],
   "source": []
  }
 ],
 "metadata": {
  "colab": {
   "provenance": []
  },
  "kernelspec": {
   "display_name": "Python 3 (ipykernel)",
   "language": "python",
   "name": "python3"
  },
  "language_info": {
   "codemirror_mode": {
    "name": "ipython",
    "version": 3
   },
   "file_extension": ".py",
   "mimetype": "text/x-python",
   "name": "python",
   "nbconvert_exporter": "python",
   "pygments_lexer": "ipython3",
   "version": "3.9.12"
  }
 },
 "nbformat": 4,
 "nbformat_minor": 1
}
