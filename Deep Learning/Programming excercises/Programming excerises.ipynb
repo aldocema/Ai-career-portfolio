{
  "cells": [
    {
      "cell_type": "markdown",
      "id": "87e3eeff",
      "metadata": {
        "id": "87e3eeff"
      },
      "source": [
        "# Ejercicio 1\n",
        "\n",
        "<font size=\"4\">Almacenar en una lista las raíces cuadradas de los primeros 100 números múltiplos de 6.</font>\n",
        "\n",
        "\n",
        "\n",
        "Para la solución de este ejercicio se realizó un ciclo finito para obtener los primeros 100 múltiplos de 6 (multiplicando por 6 cada numero de la secuencia) y obteniendo sus raices mientras se almacenan con la funcion `append()` que coloca cada valor en la última posición de la lista\n"
      ]
    },
    {
      "cell_type": "code",
      "execution_count": null,
      "id": "28a64ebc",
      "metadata": {
        "id": "28a64ebc",
        "outputId": "90cf4add-c803-472a-fb9c-6d2926a62fbc"
      },
      "outputs": [
        {
          "name": "stdout",
          "output_type": "stream",
          "text": [
            "[2.449489742783178, 3.4641016151377544, 4.242640687119285, 4.898979485566356, 5.477225575051661, 6.0, 6.48074069840786, 6.928203230275509, 7.3484692283495345, 7.745966692414834, 8.12403840463596, 8.48528137423857, 8.831760866327848, 9.16515138991168, 9.486832980505138, 9.797958971132712, 10.099504938362077, 10.392304845413264, 10.677078252031311, 10.954451150103322, 11.224972160321824, 11.489125293076057, 11.74734012447073, 12.0, 12.24744871391589, 12.489995996796797, 12.727922061357855, 12.96148139681572, 13.19090595827292, 13.416407864998739, 13.638181696985855, 13.856406460551018, 14.071247279470288, 14.2828568570857, 14.491376746189438, 14.696938456699069, 14.89966442575134, 15.0996688705415, 15.297058540778355, 15.491933384829668, 15.684387141358123, 15.874507866387544, 16.06237840420901, 16.24807680927192, 16.431676725154983, 16.61324772583615, 16.792855623746664, 16.97056274847714, 17.146428199482248, 17.320508075688775, 17.4928556845359, 17.663521732655695, 17.832554500127006, 18.0, 18.16590212458495, 18.33030277982336, 18.49324200890693, 18.65475810617763, 18.81488772222678, 18.973665961010276, 19.131126469708992, 19.28730152198591, 19.44222209522358, 19.595917942265423, 19.748417658131498, 19.8997487421324, 20.049937655763422, 20.199009876724155, 20.346989949375804, 20.493901531919196, 20.639767440550294, 20.784609690826528, 20.92844953645635, 21.071307505705477, 21.213203435596427, 21.354156504062622, 21.494185260204677, 21.633307652783937, 21.77154105707724, 21.908902300206645, 22.045407685048602, 22.181073012818835, 22.315913604421397, 22.44994432064365, 22.58317958127243, 22.715633383201094, 22.847319317591726, 22.978250586152114, 23.108440016582687, 23.2379000772445, 23.366642891095847, 23.49468024894146, 23.62202362203543, 23.748684174075834, 23.874672772626646, 24.0, 24.124676163629637, 24.24871130596428, 24.372115213907882, 24.49489742783178]\n"
          ]
        }
      ],
      "source": [
        "import math \n",
        "import numpy as np\n",
        "\n",
        "lista=[]\n",
        "\n",
        "for x in range(1,101):\n",
        "    \n",
        "    lista.append(math.sqrt(x*6))\n",
        "    \n",
        "\n",
        "print(lista)"
      ]
    },
    {
      "cell_type": "markdown",
      "id": "be96fb0c",
      "metadata": {
        "id": "be96fb0c"
      },
      "source": [
        "# Ejercicio 2\n",
        "\n",
        "<font size=\"4\">Almacenar en una lista los productos entre los 20 primeros números impares con los 20 primeros números de son múltiplos de 4.</font>\n",
        "\n",
        "Para solucionar este ejercicio se realizó de igual manera un bucle finito para obtener cada valor para finalmente multiplicarlos con el comando `np.multiply()` que permite realizar la multiplicación de listas elemento a elemento y finalmente se aplicó la función `tolist()` que permite convertir el resultado en variable de tipo lista."
      ]
    },
    {
      "cell_type": "code",
      "execution_count": null,
      "id": "fa947b66",
      "metadata": {
        "id": "fa947b66",
        "outputId": "fba06c09-1a10-4c79-cc7d-223a7415eddc"
      },
      "outputs": [
        {
          "name": "stdout",
          "output_type": "stream",
          "text": [
            "Lista de 20 números impares [1, 3, 5, 7, 9, 11, 13, 15, 17, 19, 21, 23, 25, 27, 29, 31, 33, 35, 37, 39]\n",
            "Lista de 20 números múltiplos de 4 [4, 8, 12, 16, 20, 24, 28, 32, 36, 40, 44, 48, 52, 56, 60, 64, 68, 72, 76, 80]\n",
            "Lista multiplicada [4, 24, 60, 112, 180, 264, 364, 480, 612, 760, 924, 1104, 1300, 1512, 1740, 1984, 2244, 2520, 2812, 3120]\n"
          ]
        }
      ],
      "source": [
        "#inicio de programa 2\n",
        "impares=[]\n",
        "m_4=[]\n",
        "lista2=[]\n",
        "for x in range(0,20):\n",
        "    impares.append((2*x)+1)\n",
        "    m_4.append((x+1)*4)\n",
        "\n",
        "print('Lista de 20 números impares',impares)\n",
        "print('Lista de 20 números múltiplos de 4',m_4)\n",
        "lista2=np.multiply(impares,m_4)\n",
        "lista2=lista2.tolist()\n",
        "print('Lista multiplicada',lista2)"
      ]
    },
    {
      "cell_type": "markdown",
      "id": "6708301a",
      "metadata": {
        "id": "6708301a"
      },
      "source": [
        "# Ejercicio 3\n",
        "\n",
        "<font size=\"4\">Decidir si un numero natural $n$ es primo. </font>\n",
        "\n",
        "Para la solución de este ejercicio se proponen 2 soluciones alternas. \n",
        "La primera (3) propone que al introducir el número se haga un barrido por todos los números entre 2 y el número. En caso de encontrar que algún valor sea divisible (modulo igual a 0), entonces la variable $flag$ cambia de valor y sale del bucle for para imprimir que el número no es primo.\n",
        "En caso contrario, es decir que una vez terminado el barrido no haya encontrado ningún valor divisible, entonces la variable manda imprimir que el número si es primo.\n",
        "\n",
        "Para la solucion 3.1, es algo muy parecido, con la única diferencia de que al momento de encontrar algún valor divisible, imprime que no es número primo y forza a terminar el programa. "
      ]
    },
    {
      "cell_type": "code",
      "execution_count": null,
      "id": "132c4105",
      "metadata": {
        "id": "132c4105",
        "outputId": "b2d68af8-3247-44c3-d1e0-1a6a831d9cb6"
      },
      "outputs": [
        {
          "name": "stdout",
          "output_type": "stream",
          "text": [
            "Introduzca número para evaluar si es primo: 281\n",
            "Si es número primo\n"
          ]
        }
      ],
      "source": [
        "#inicio de programa 3\n",
        "a=int(input(\"Introduzca número para evaluar si es primo: \"))\n",
        "flag=0\n",
        "for x in range (2,a):\n",
        "    \n",
        "    if a%x==0:\n",
        "        flag=1\n",
        "        break\n",
        "\n",
        "if flag==0:\n",
        "    print(\"Si es número primo\")\n",
        "else:\n",
        "    print(\"No es número primo\")\n",
        "#Variante del programa 3.1\n",
        "\n",
        "#import sys\n",
        "#a=int(input())\n",
        "#for x in range (2,a):\n",
        "#    if a%x==0:\n",
        "#        print(\"No es número primo\")\n",
        "#        sys.exit(1) \n",
        "\n",
        "#print(\"Si es número primo\")\n"
      ]
    },
    {
      "cell_type": "markdown",
      "id": "4dabfef6",
      "metadata": {
        "id": "4dabfef6"
      },
      "source": [
        "# Ejercicio 4\n",
        "<font size=\"4\">La sucesión de Fibonacci empieza con los numeros 0 y 1, y los términos restantes son la suma de los dos términos anteriores:\n",
        "\\begin{equation}\n",
        "\\begin{split}\n",
        "f_1&=0; \\\\\n",
        "f_2&=1; \\\\\n",
        "f_n=f_{n-1}+&f_{n-2},n=3,4,...\n",
        "\\end{split}\n",
        "\\end{equation}\n",
        "a) Definir una función que determine el enésimo término de la serie.</font>\n",
        "\n",
        "\n",
        "Para la solución de este problema, se ocupa el concepto de recursividad, en donde, con base a las formulas dadas, se puede volver a llamar a la función. se utilizó el comando `def ___():`"
      ]
    },
    {
      "cell_type": "code",
      "execution_count": null,
      "id": "a51046b6",
      "metadata": {
        "id": "a51046b6",
        "outputId": "0bb7f40a-0470-48c8-b089-cedefad2547a"
      },
      "outputs": [
        {
          "name": "stdout",
          "output_type": "stream",
          "text": [
            "Introduzca el número de Fibonacci para calcular 9\n",
            "El resultado es:  34\n"
          ]
        }
      ],
      "source": [
        "def fibonacci(n):\n",
        "    if n==0:\n",
        "        return 0\n",
        "    elif n==1:\n",
        "        return 1\n",
        "    else:\n",
        "        return fibonacci(n-1)+fibonacci(n-2)\n",
        "\n",
        "n_f=int(input(\"Introduzca el número de Fibonacci para calcular \"))\n",
        "print(\"El resultado es: \",fibonacci(n_f))"
      ]
    },
    {
      "cell_type": "markdown",
      "id": "84102d55",
      "metadata": {
        "id": "84102d55"
      },
      "source": [
        "# Ejercicio 5\n",
        "<font size=\"4\">Escriba un script que lea los coeficientes de las rectas\n",
        "\\begin{equation}\n",
        "\\begin{split}\n",
        "ax+by=c &\\\\\n",
        "dx+ey=f \\\\\n",
        "\\end{split}\n",
        "\\end{equation} \n",
        "y determine si son paralelas, y en caso de no serlo determine si son perpendiculares.\n",
        "\n",
        "    \n",
        "<font size=\"4\">Para solucionar este problema se debe calcular la pendiente $m$ (función <font color=\"blue\">pen</font> y <font color=\"blue\">tab</font>) y posteriormente multiplicarlas (<font color=\"blue\">evaluar</font>) de tal modo que:</font>\n",
        "\n",
        "\\begin{equation}\n",
        " \\begin{split}\n",
        "    m_1*m_2=-1 &\\therefore perpendicular \\\\\n",
        "    m_1=m_2 &\\therefore paralela\n",
        " \\end{split}\n",
        "\\end{equation} \n",
        "</font>\n"
      ]
    },
    {
      "cell_type": "code",
      "execution_count": null,
      "id": "53c19b90",
      "metadata": {
        "id": "53c19b90",
        "outputId": "a1ad8411-ad8b-458f-d122-9899ddaaeae7"
      },
      "outputs": [
        {
          "name": "stdout",
          "output_type": "stream",
          "text": [
            "Introduzca coeficiente de a: 1\n",
            "Introduzca coeficiente de b: 1\n",
            "Introduzca coeficiente de c: 1\n",
            "Introduzca coeficiente de d:-1\n",
            "Introduzca coeficiente de e: 1\n",
            "Introduzca coeficiente de f: 1\n",
            "Son rectas perpendiculares\n"
          ]
        }
      ],
      "source": [
        "def tab(a,b,c):\n",
        "    return [3,5,(c-a*3)/b,(c-a*5)/b]\n",
        "\n",
        "def pen(y):\n",
        "    return ((y[3]-y[2])/(y[1]-y[0]))\n",
        "\n",
        "def evaluar(m1,m2):\n",
        "    if m1==m2:\n",
        "        return \"Son rectas paralelas\"\n",
        "    elif m1*m2==-1:\n",
        "        return \"Son rectas perpendiculares\"\n",
        "    else: \n",
        "        return \"No son rectas paralelas ni perpendiculares\"\n",
        "\n",
        "a=float(input(\"Introduzca coeficiente de a: \"))\n",
        "b=float(input(\"Introduzca coeficiente de b: \"))\n",
        "c=float(input(\"Introduzca coeficiente de c: \"))\n",
        "d=float(input(\"Introduzca coeficiente de d:\"))\n",
        "e=float(input(\"Introduzca coeficiente de e: \"))\n",
        "f=float(input(\"Introduzca coeficiente de f: \"))\n",
        "\n",
        "r_1=tab(a,b,c)\n",
        "r_2=tab(d,e,f)\n",
        "\n",
        "m1=pen(r_1)\n",
        "m2=pen(r_2)\n",
        "print(evaluar(m1,m2))"
      ]
    },
    {
      "cell_type": "markdown",
      "id": "9984f842",
      "metadata": {
        "id": "9984f842"
      },
      "source": [
        "Se utilizó con los siguientes ejemplos:\n",
        "\n",
        "Rectas paralelas:\n",
        "\\begin{equation}\n",
        "\\begin{split}\n",
        "    2x+&y=1 \\\\\n",
        "    2x+&y=3 \\\\\n",
        "\\end{split}\n",
        "\\end{equation}\n",
        "Rectas perpendiculares:\n",
        "\\begin{equation}\n",
        "\\begin{split}\n",
        "    x+y&=1 \\\\\n",
        "    -x+y&=1 \\\\\n",
        "\\end{split}\n",
        "\\end{equation}"
      ]
    },
    {
      "cell_type": "markdown",
      "id": "12bd5a93",
      "metadata": {
        "id": "12bd5a93"
      },
      "source": [
        "# Ejercicio 6\n",
        "<font size=\"4\">Calcular la suma de los $n$ primeros términos de la sucesión formada por los siguientes elementos $1,\\frac{x}{1!},\\frac{x^2}{2!},\\frac{x^3}{3!},...,$ </font>\n",
        "\n",
        "Para la solución de este ejercicio se realizó un bucle finito en el que se irá desde el primer valor de x=1 hasta el deseado, evaluado en el valor deseado. realizando una suma de la misma variable al igualarla a si misma adicionada al siguiente número de la sucesión. \n",
        "Finalmente se suma el primer valor de la sucesion en n=0 que es 1.\n",
        "Esta función aproxima numéricamente a la expresión $e^{x}$"
      ]
    },
    {
      "cell_type": "code",
      "execution_count": null,
      "id": "8d9421b0",
      "metadata": {
        "id": "8d9421b0",
        "outputId": "43636682-5e21-4ea8-e890-a574dd5d3e1a"
      },
      "outputs": [
        {
          "name": "stdout",
          "output_type": "stream",
          "text": [
            "Introduzca el número de términos de la sucesión: 6\n",
            "Introduzca el valor de x a ser evaluado: 0.5\n",
            "El valor de la suma de la sucesión es:  1.6486979166666667\n"
          ]
        }
      ],
      "source": [
        "def suma(n,x):\n",
        "    total=0\n",
        "    for a in range(1,n):\n",
        "        total=total+ (x**a/math.factorial(a))\n",
        "    total=total+1\n",
        "    return total\n",
        "\n",
        "n=int(input(\"Introduzca el número de términos de la sucesión: \"))\n",
        "x=float(input(\"Introduzca el valor de x a ser evaluado: \"))\n",
        "\n",
        "print(\"El valor de la suma de la sucesión es: \",suma(n,x))"
      ]
    }
  ],
  "metadata": {
    "kernelspec": {
      "display_name": "Python 3 (ipykernel)",
      "language": "python",
      "name": "python3"
    },
    "language_info": {
      "codemirror_mode": {
        "name": "ipython",
        "version": 3
      },
      "file_extension": ".py",
      "mimetype": "text/x-python",
      "name": "python",
      "nbconvert_exporter": "python",
      "pygments_lexer": "ipython3",
      "version": "3.9.12"
    },
    "colab": {
      "provenance": []
    }
  },
  "nbformat": 4,
  "nbformat_minor": 5
}