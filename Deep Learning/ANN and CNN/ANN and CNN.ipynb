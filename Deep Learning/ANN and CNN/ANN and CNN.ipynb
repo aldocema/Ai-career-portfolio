{
 "cells": [
  {
   "cell_type": "markdown",
   "id": "aa53ce9c",
   "metadata": {},
   "source": [
    "# Examen 1 Aldo Cervantes\n",
    "\n",
    "El programa consiste en realizar una predicción de la acción de control de un controlador basado en el entrenamiento de una red neuronal perceptrón multicapa de un controlador PID.\n",
    "\n",
    "El sistema a controlar será la posición de un motor electrico de corriente directa (CD). Su función de transferencia es:\n",
    "$$\\frac{\\theta(s)}{I(s)}=\\frac{K}{s(s+a)}$$\n",
    "Donde $K$ y $a$ son las constantes del motor.\n",
    "\n",
    "Al aplicar la transformada z al sistema es posible obtener una función recursiva mediante el teorema del corrimiento:\n",
    "$$ \\theta(k)=K(-e^{-a}+1)I(k-1)+ (e^{-a}+1)\\theta(k-1)-e^{-a}\\theta(k-2)$$\n",
    "\n",
    "\n",
    "Para entrenar la red, se ocuparán casos de controladores PID actuando sobre el sistema, generando una base de datos con distintos casos. El controlador PID tiene la siguiente forma.\n",
    "$$I(t)=U(t)=k_pe(t)+k_i\\int e(t)dt+k_d\\frac{de(t)}{dt}$$\n",
    "donde:\n",
    "- $k_p$,$k_i$ y $k_d$ son constantes (ganancias) del sistema, los cuales afectan el comportamiento de la respuesta.\n",
    "\n",
    "Aplicando la transformada z y aplicando teoremas de corrimento se obtiene:\n",
    "\n",
    "- Tomando en cuenta un periodo de muestreo $T$.\n",
    "- $k_{pd}=k_p$\n",
    "- $k_{id}=k_iT$\n",
    "- $k_{dd}=\\frac{k_d}{T}$\n",
    "\n",
    "$$U(k)=U(k-1)+(c_0e(k))+(c_1e(k-1))+(c_2e(k-2))$$\n",
    "\n",
    "Donde:\n",
    "- $c_0=k_{pd}+k_{id}+k_{dd}$\n",
    "- $c_1=-k_{pd}-2k_{dd}$\n",
    "- $c_2=k_{dd}$"
   ]
  },
  {
   "cell_type": "code",
   "execution_count": 153,
   "id": "f894f2cc",
   "metadata": {},
   "outputs": [],
   "source": [
    "import numpy as np\n",
    "\n",
    "\n",
    "def motor(k,a,i_1,sal_1,sal_2):\n",
    "    sal=((i_1*(-np.exp(-a)+1)*k)+((np.exp(-a)+1)*sal_1)-(sal_2*np.exp(-a)))\n",
    "    #sal=((1-a)i_1)\n",
    "    return sal\n",
    "\n",
    "def controlador_pid(c_0,c_1,c_2,e,e_1,e_2,u_1):\n",
    "    u=u_1+(c_0*e)+(c_1*e_1)+(c_2*e_2)\n",
    "    if abs(u)>12.5 and u<0: #saturación de voltaje\n",
    "        u=-12.5\n",
    "    elif abs(u)>12.5 and u>0:\n",
    "        u=12.5\n",
    "    u=u*0.0557 #conversión a tensión\n",
    "    return u\n",
    "\n",
    "perturbacion=0.3\n",
    "u=0\n",
    "u_1=0\n",
    "e=0\n",
    "e_1=0\n",
    "e_2=0\n",
    "sal=0\n",
    "sal_1=0\n",
    "sal_2=0\n",
    "T=0.01\n",
    "k=7.613\n",
    "a=0.14\n",
    "kp=4\n",
    "ki=5\n",
    "kd=0.1\n",
    "kpd=kp\n",
    "kid=ki*T\n",
    "kdd=kd/T\n",
    "c_0=kpd+kid+kdd\n",
    "c_1=-kpd-2*kdd\n",
    "c_2=kdd\n",
    "#a=np.exp(-50/7)*T"
   ]
  },
  {
   "cell_type": "markdown",
   "id": "e8590e79",
   "metadata": {},
   "source": [
    "Teniendo como salida final (salida compensada):\n",
    "$$\\theta_{final}(k)= \\theta(U(k)) $$\n",
    "\n",
    "$$U(k)=U(in(k))$$\n",
    "\n",
    "$$e(k)=sp-\\theta_{final}(k)$$\n",
    "\n",
    "La principal idea es minimizar el error a 0 y por lo tanto se acercará al valor deseado."
   ]
  },
  {
   "cell_type": "code",
   "execution_count": 154,
   "id": "4fec769f",
   "metadata": {},
   "outputs": [],
   "source": [
    "sp=0.65 #Valor deseado en radianes"
   ]
  },
  {
   "cell_type": "markdown",
   "id": "389e4d89",
   "metadata": {},
   "source": [
    "La red neuronal tendrá de entrada:\n",
    "$$\\begin{bmatrix}\n",
    "     e(0)&\n",
    "     e(-1)&\n",
    "     e(-2)&\n",
    "     in(0) &\n",
    "     in(-1)&\n",
    "     out(-1)&\n",
    "     out(-2) \\\\\n",
    "     e(1)&\n",
    "     e(0)&\n",
    "     e(-1)&\n",
    "     in(1) &\n",
    "     in(0)&\n",
    "     out(0)&\n",
    "     out(-1) \\\\\n",
    "     \\vdots &\n",
    "     \\vdots &\n",
    "     \\vdots &\n",
    "     \\vdots &\n",
    "     \\vdots &\n",
    "     \\vdots &\n",
    "     \\vdots \\\\\n",
    "     e(k)&\n",
    "     e(k-1)&\n",
    "     e(k-2)&\n",
    "     in(k) &\n",
    "     in(k-1)&\n",
    "     out(k-1)&\n",
    "     out(k-2)\n",
    "\\end{bmatrix}$$\n",
    "\n",
    "Teniendo de única salida:\n",
    "\n",
    "$$\\begin{bmatrix} \n",
    "    out(0)\\\\\n",
    "    out(1)\\\\  \n",
    "    \\vdots \\\\\n",
    "    out(k)\n",
    "\\end{bmatrix}$$"
   ]
  },
  {
   "cell_type": "code",
   "execution_count": 155,
   "id": "cd8f6671",
   "metadata": {},
   "outputs": [],
   "source": [
    "t=[]\n",
    "aa=-sp\n",
    "b=sp\n",
    "e=sp-sal\n",
    "#x=np.array([[e,e_1,e_2,u,u_1,sal_1,sal_2,sal]]) #\n",
    "#x=np.array([[e,u,sal]])\n",
    "x=np.array([[e,e_1,e_2]])\n",
    "y=np.array([[sal]])\n",
    "bandera=0\n",
    "sp2=np.array([sp])\n",
    "import time \n",
    "import random\n",
    "for tiempo in range(6000):\n",
    "    t1=time.time()\n",
    "    #sp=np.sin(tiempo*1.5*T)\n",
    "    e=sp-sal\n",
    "    u=controlador_pid(c_0,c_1,c_2,e,e_1,e_2,u_1)\n",
    "\n",
    "    sal=motor(k,a,u_1,sal_1,sal_2)\n",
    "    \n",
    "    #print([e,u,sal])\n",
    "    #x=np.vstack((x,np.array([[e,e_1,e_2,u,u_1,sal_1,sal_2,sal]]))) #\n",
    "    #x=np.vstack((x,np.array([[e,u,sal]])))\n",
    "    x=np.vstack((x,np.array([[e,e_1,e_2]])))\n",
    "    y=np.vstack((y,np.array([[sal]])))\n",
    "    sp2=np.vstack((sp2,np.array([sp])))\n",
    "    u_1=u\n",
    "    sal_2=sal_1\n",
    "    sal_1=sal\n",
    "    e_2=e_1\n",
    "    e_1=e\n",
    "    t.append(tiempo*T)\n",
    "    if abs(e)<=0.0017:\n",
    "        bandera+=1\n",
    "        r=random.uniform(aa,b)\n",
    "        sp=r\n",
    "    t2=time.time()\n",
    "    \"\"\"\n",
    "   # if t2-t1<=0.0009:\n",
    "    #    T=0.001\n",
    "    #else:\n",
    "    #    T=t2-t1\n",
    "    kpd=kp  #Recalcular ganancias por diferencias de tiempo discreto\n",
    "    kid=ki*T\n",
    "    kdd=kd/T\n",
    "    c_0=kpd+kid+kdd\n",
    "    c_1=-kpd-2*kdd\n",
    "    c_2=kdd\n",
    "    \"\"\"\n",
    "    "
   ]
  },
  {
   "cell_type": "code",
   "execution_count": 156,
   "id": "aa1491cd",
   "metadata": {},
   "outputs": [
    {
     "data": {
      "text/plain": [
       "(6001, 3)"
      ]
     },
     "execution_count": 156,
     "metadata": {},
     "output_type": "execute_result"
    }
   ],
   "source": [
    "x.shape"
   ]
  },
  {
   "cell_type": "code",
   "execution_count": 157,
   "id": "1c29491a",
   "metadata": {},
   "outputs": [
    {
     "data": {
      "text/plain": [
       "(6001, 1)"
      ]
     },
     "execution_count": 157,
     "metadata": {},
     "output_type": "execute_result"
    }
   ],
   "source": [
    "y.shape"
   ]
  },
  {
   "cell_type": "markdown",
   "id": "526380d7",
   "metadata": {},
   "source": [
    "# Patrón de entrenamiento"
   ]
  },
  {
   "cell_type": "code",
   "execution_count": 158,
   "id": "2b4a65a1",
   "metadata": {},
   "outputs": [
    {
     "data": {
      "image/png": "[encoded data removed]",
      "text/plain": [
       "<Figure size 432x288 with 1 Axes>"
      ]
     },
     "metadata": {
      "needs_background": "light"
     },
     "output_type": "display_data"
    }
   ],
   "source": [
    "import matplotlib.pyplot as plt\n",
    "t=np.arange(0,6001,1)\n",
    "plt.plot(t*T,y)\n",
    "plt.plot(t*T,sp2)\n",
    "plt.xlabel('tiempo (s)')\n",
    "plt.ylabel('posición (rad)')\n",
    "plt.grid()"
   ]
  },
  {
   "cell_type": "code",
   "execution_count": 159,
   "id": "72dec40f",
   "metadata": {},
   "outputs": [
    {
     "name": "stdout",
     "output_type": "stream",
     "text": [
      "salida máxima: 0.6483306814738711 rad\n",
      "error máximo: 1.1876919588681767 rad\n"
     ]
    }
   ],
   "source": [
    "print('salida máxima:',y.max(),'rad')\n",
    "print('error máximo:',x[:,0].max(),'rad')"
   ]
  },
  {
   "cell_type": "markdown",
   "id": "50a65669",
   "metadata": {},
   "source": [
    "# Red Perceptrón multicapa"
   ]
  },
  {
   "cell_type": "code",
   "execution_count": 160,
   "id": "ed8377be",
   "metadata": {},
   "outputs": [
    {
     "name": "stdout",
     "output_type": "stream",
     "text": [
      "Model: \"sequential_3\"\n",
      "_________________________________________________________________\n",
      "Layer (type)                 Output Shape              Param #   \n",
      "=================================================================\n",
      "dense_15 (Dense)             (None, 8)                 32        \n",
      "_________________________________________________________________\n",
      "dense_16 (Dense)             (None, 14)                126       \n",
      "_________________________________________________________________\n",
      "dense_17 (Dense)             (None, 28)                420       \n",
      "_________________________________________________________________\n",
      "dense_18 (Dense)             (None, 14)                406       \n",
      "_________________________________________________________________\n",
      "dense_19 (Dense)             (None, 1)                 15        \n",
      "=================================================================\n",
      "Total params: 999\n",
      "Trainable params: 999\n",
      "Non-trainable params: 0\n",
      "_________________________________________________________________\n"
     ]
    }
   ],
   "source": [
    "import tensorflow as tf\n",
    "from tensorflow.keras.layers import Input,Dense\n",
    "from tensorflow.keras.models import Model,Sequential\n",
    "\n",
    "#normalización del valor\n",
    "#n_min=0\n",
    "#n_max=1\n",
    "#x[:,1]=(x[:,1]-x[:,1].min())/(x[:,1].max()-x[:,1].min())\n",
    "#x[:,0]=(x[:,0]-x[:,0].min())/(x[:,0].max()-x[:,0].min())\n",
    "\n",
    "model=Sequential()\n",
    "model.add(Dense(8,input_shape=(3,),activation='linear')) ## era 7\n",
    "model.add(Dense(14,activation='linear'))\n",
    "model.add(Dense(28,activation='linear'))\n",
    "model.add(Dense(14, activation='linear'))\n",
    "model.add(Dense(1,activation='linear'))\n",
    "model.summary()"
   ]
  },
  {
   "cell_type": "code",
   "execution_count": 161,
   "id": "8bb40bf1",
   "metadata": {},
   "outputs": [
    {
     "name": "stdout",
     "output_type": "stream",
     "text": [
      "Epoch 1/10\n",
      "6001/6001 [==============================] - 5s 797us/step - loss: 0.2050\n",
      "Epoch 2/10\n",
      "6001/6001 [==============================] - 4s 722us/step - loss: 0.2032\n",
      "Epoch 3/10\n",
      "6001/6001 [==============================] - 4s 590us/step - loss: 0.2027\n",
      "Epoch 4/10\n",
      "6001/6001 [==============================] - 4s 588us/step - loss: 0.2024\n",
      "Epoch 5/10\n",
      "6001/6001 [==============================] - 4s 589us/step - loss: 0.2021\n",
      "Epoch 6/10\n",
      "6001/6001 [==============================] - 4s 594us/step - loss: 0.2025\n",
      "Epoch 7/10\n",
      "6001/6001 [==============================] - 4s 590us/step - loss: 0.2021\n",
      "Epoch 8/10\n",
      "6001/6001 [==============================] - 4s 588us/step - loss: 0.2021\n",
      "Epoch 9/10\n",
      "6001/6001 [==============================] - 4s 591us/step - loss: 0.2019\n",
      "Epoch 10/10\n",
      "6001/6001 [==============================] - 4s 589us/step - loss: 0.2017\n",
      "tiempo de ejecución 37.89456748962402\n"
     ]
    }
   ],
   "source": [
    "model.compile(loss=tf.keras.losses.MeanSquaredError(),optimizer=tf.keras.optimizers.Adam(learning_rate=0.001))\n",
    "t1=time.time()\n",
    "model.fit(x,y,epochs=10,batch_size=1,verbose=1)\n",
    "t2=time.time()\n",
    "print('tiempo de ejecución',t2-t1)"
   ]
  },
  {
   "cell_type": "markdown",
   "id": "921f48da",
   "metadata": {},
   "source": [
    "# Prueba de desempeño\n",
    "\n",
    "Error cuadrático medio\n",
    "\n",
    "$$RMSE=\\sqrt{\\frac{\\sum_{i=1}^{n}(y_i-\\hat{y})^2}{n}}$$\n",
    "\n",
    "Sobrepaso\n",
    "\n",
    "$$m_p[\\%]=(1-\\frac{|y_{max}|}{s_p})*100\\%$$\n",
    "\n",
    "Tiempo de asentamiento\n",
    "$$t_s=t(e_{min})$$"
   ]
  },
  {
   "cell_type": "markdown",
   "id": "b775bb74",
   "metadata": {},
   "source": [
    "# Prueba de control\n",
    "\n",
    "Las pruebas consistirán en 3 diferentes funciones de $setpoint$ para poder observar el desempeño del sistema."
   ]
  },
  {
   "cell_type": "markdown",
   "id": "005ca8e5",
   "metadata": {},
   "source": [
    "## 1 Prueba de escalón\n",
    "\n",
    "Consiste en una función:\n",
    "$$s_p(\\theta)=\\left\\{\\begin{matrix}\n",
    " 0 & t < 0 \\\\ \n",
    " a & t\\geq 0\n",
    "\\end{matrix}\\right. $$"
   ]
  },
  {
   "cell_type": "code",
   "execution_count": 170,
   "id": "3f8265a6",
   "metadata": {},
   "outputs": [
    {
     "data": {
      "image/png": "[encoded data removed]",
      "text/plain": [
       "<Figure size 432x288 with 1 Axes>"
      ]
     },
     "metadata": {
      "needs_background": "light"
     },
     "output_type": "display_data"
    }
   ],
   "source": [
    "sp=-1.5\n",
    "u=0\n",
    "u_1=0\n",
    "e=sp-sal\n",
    "e_1=0\n",
    "e_2=0\n",
    "sal=0 #Posición inicial\n",
    "sal_1=0\n",
    "sal_2=0\n",
    "T=0.01\n",
    "t=[]\n",
    "aa=-sp\n",
    "b=sp\n",
    "e=sp-sal\n",
    "x=np.array([[e,e_1,e_2,u,u_1,sal_1,sal_2,sal]]) #\n",
    "y=np.array([[sal]])\n",
    "\n",
    "sp2=np.array([sp])\n",
    "for tt in range(1000):\n",
    "    e=sp-sal\n",
    "    #e_n=sp-sal_n\n",
    "    u=controlador_pid(c_0,c_1,c_2,e,e_1,e_2,u_1)\n",
    "\n",
    "    sal=motor(k,a,u_1,sal_1,sal_2)\n",
    "    \n",
    "    #print([e,u,sal])\n",
    "    x=np.vstack((x,np.array([[e,e_1,e_2,u,u_1,sal_1,sal_2,sal]]))) #\n",
    "    y=np.vstack((y,np.array([[sal]])))\n",
    "    sp2=np.vstack((sp2,np.array([sp])))\n",
    "    u_1=u\n",
    "    sal_2=sal_1\n",
    "    sal_1=sal\n",
    "    e_2=e_1\n",
    "    e_1=e\n",
    "\n",
    "u=0\n",
    "u_1=0\n",
    "e=sp-sal\n",
    "e_1=0\n",
    "e_2=0\n",
    "sal=0 #Posición inicial\n",
    "sal_1=0\n",
    "sal_2=0\n",
    "#x2=np.array([[e,e_1,e_2,u,u_1,sal_1,sal_2,sal]]) #\n",
    "#x2=np.array([[e,u,sal]])\n",
    "x2=np.array([[e,e_1,e_2]])\n",
    "y2=np.array([[sal]])\n",
    "#\"\"\"\n",
    "for tt in range(1000):\n",
    "    e=sp-sal\n",
    "\n",
    "    #u=model.predict(x2) #No deja hacer una predicción por renglón\n",
    "    #u=model.predict([[e,e_1,e_2,u,u_1,sal_1,sal_2,sal]]) #\n",
    "    #u=model.predict([[e,u,sal]])\n",
    "    u=model.predict([[e,e_1,e_2]])\n",
    "    u=float(u)\n",
    "    if abs(u)>12.5 and u<0: #saturación de voltaje\n",
    "        u=-12.5\n",
    "    elif abs(u)>12.5 and u>0:\n",
    "        u=12.5\n",
    "    u=u*0.0557 #conversión a tensión\n",
    "\n",
    "    \n",
    "    #u=u*0.0557 #conversión a tensión\n",
    "    sal=motor(k,a,u_1,sal_1,sal_2)\n",
    "    #print([e,u,sal])\n",
    "    #x2=np.vstack((x2,np.array([[e,e_1,e_2,u,u_1,sal_1,sal_2,sal]]))) #\n",
    "    #x2=np.vstack((x2,np.array([[e,u,sal]])))\n",
    "    x2=np.vstack((x2,np.array([[e,e_1,e_2]])))\n",
    "    y2=np.vstack((y2,np.array([[sal]])))\n",
    "    \n",
    "    u_1=u\n",
    "    sal_2=sal_1\n",
    "    sal_1=sal\n",
    "    e_2=e_1\n",
    "    e_1=e\n",
    "#\"\"\"\n",
    "\n",
    "t=np.arange(0,1001,1)\n",
    "plt.plot(t*0.01,y)\n",
    "plt.plot(t*0.01,sp2)\n",
    "t2=np.arange(0,1001,1)\n",
    "plt.plot(0.01*t,y2)\n",
    "plt.xlabel('tiempo (s)')\n",
    "plt.ylabel('posición (rad)')\n",
    "plt.title('Respuesta al escalón')\n",
    "plt.legend(['Salida de PID','Valor deseado','Salida de red neuronal'],loc='upper right')\n",
    "plt.grid()"
   ]
  },
  {
   "cell_type": "markdown",
   "id": "fe638a90",
   "metadata": {},
   "source": [
    "### Prueba de desempeño\n"
   ]
  },
  {
   "cell_type": "code",
   "execution_count": 171,
   "id": "c19e9926",
   "metadata": {},
   "outputs": [
    {
     "name": "stdout",
     "output_type": "stream",
     "text": [
      "Error medio cuadratico: 2.273883430016094e-15\n",
      "Sobrepaso: 140.60444707877025 %\n",
      "Tiempo de asentamiento: 0.03 s\n",
      "Error medio cuadratico: 2.3861739697699754e-16\n",
      "Sobrepaso: 100.02805241907157 %\n",
      "Tiempo de asentamiento: 0.06 s\n"
     ]
    }
   ],
   "source": [
    "## Red neuronal\n",
    "rmse1=float(np.sqrt((sum(y2-y2.mean())**2)/len(y2)))\n",
    "print('Error medio cuadratico:',rmse1)\n",
    "m_p1=float((1-(abs(x2[:,0].max())/sp2[np.where(abs(x2[:,0])==abs(x2[:,0].max()))]))*100)\n",
    "print('Sobrepaso:',m_p1,'%')\n",
    "t_aux1=t[np.where(x2[:,0]==x2[:,0].min())]\n",
    "t_s1=float(t[t_aux1[0]]*0.01)\n",
    "print('Tiempo de asentamiento:',t_s1,'s')\n",
    "## PID\n",
    "rmse1pid=float(np.sqrt((sum(y-y.mean())**2)/len(y)))\n",
    "print('Error medio cuadratico:',rmse1pid)\n",
    "x_aux1=np.where(abs(x[:,0])==abs(x[:,0].max()))\n",
    "m_p1=float((1-(abs(x[:,0].max())/sp2[x_aux1[0]]))*100)\n",
    "print('Sobrepaso:',m_p1,'%')\n",
    "t_aux1=t[np.where(x[:,0]==x[:,0].min())]\n",
    "t_s1=float(t[t_aux1[0]]*0.01)\n",
    "print('Tiempo de asentamiento:',t_s1,'s')"
   ]
  },
  {
   "cell_type": "markdown",
   "id": "8d471865",
   "metadata": {},
   "source": [
    "## 2 Prueba sinusoidal\n",
    "\n",
    "Consiste en la función:\n",
    "$$s_p(\\theta)=a\\sin(\\omega t + \\alpha) $$"
   ]
  },
  {
   "cell_type": "code",
   "execution_count": 172,
   "id": "6c4d2555",
   "metadata": {},
   "outputs": [
    {
     "data": {
      "image/png": "[encoded data removed]",
      "text/plain": [
       "<Figure size 432x288 with 1 Axes>"
      ]
     },
     "metadata": {
      "needs_background": "light"
     },
     "output_type": "display_data"
    }
   ],
   "source": [
    "sp=0\n",
    "u=0\n",
    "u_1=0\n",
    "e=sp-sal\n",
    "e_1=0\n",
    "e_2=0\n",
    "sal=0 #Posición inicial\n",
    "sal_1=0\n",
    "sal_2=0\n",
    "T=0.01\n",
    "t=[]\n",
    "aa=-sp\n",
    "b=sp\n",
    "e=sp-sal\n",
    "x=np.array([[e,e_1,e_2,u,u_1,sal_1,sal_2,sal]]) #\n",
    "y=np.array([[sal]])\n",
    "\n",
    "sp2=np.array([sp])\n",
    "for tt in range(1000):\n",
    "    sp=np.sin(tt*1.5*T)\n",
    "    e=sp-sal\n",
    "    #e_n=sp-sal_n\n",
    "    u=controlador_pid(c_0,c_1,c_2,e,e_1,e_2,u_1)\n",
    "\n",
    "    sal=motor(k,a,u_1,sal_1,sal_2)\n",
    "    \n",
    "    #print([e,u,sal])\n",
    "    x=np.vstack((x,np.array([[e,e_1,e_2,u,u_1,sal_1,sal_2,sal]]))) #\n",
    "    y=np.vstack((y,np.array([[sal]])))\n",
    "    sp2=np.vstack((sp2,np.array([sp])))\n",
    "    u_1=u\n",
    "    sal_2=sal_1\n",
    "    sal_1=sal\n",
    "    e_2=e_1\n",
    "    e_1=e\n",
    "\n",
    "u=0\n",
    "u_1=0\n",
    "e=sp-sal\n",
    "e_1=0\n",
    "e_2=0\n",
    "sal=0 #Posición inicial\n",
    "sal_1=0\n",
    "sal_2=0\n",
    "#x2=np.array([[e,e_1,e_2,u,u_1,sal_1,sal_2,sal]]) #\n",
    "#x2=np.array([[e,u,sal]])\n",
    "x2=np.array([[e,e_1,e_2]])\n",
    "y2=np.array([[sal]])\n",
    "#\"\"\"\n",
    "for tt in range(1000):\n",
    "    sp=np.sin(tt*T*1.5)\n",
    "    e=sp-sal\n",
    "    #u=model.predict(x2) #No deja hacer una predicción por renglón\n",
    "    #u=model.predict([[e,e_1,e_2,u,u_1,sal_1,sal_2,sal]]) #\n",
    "    #u=model.predict([[e,u,sal]])\n",
    "    u=model.predict([[e,e_1,e_2]])\n",
    "    u=float(u)\n",
    "    if abs(u)>12.5 and u<0: #saturación de voltaje\n",
    "        u=-12.5\n",
    "    elif abs(u)>12.5 and u>0:\n",
    "        u=12.5\n",
    "    u=u*0.0557 #conversión a tensión\n",
    "\n",
    "    \n",
    "    #u=u*0.0557 #conversión a tensión\n",
    "    sal=motor(k,a,u_1,sal_1,sal_2)\n",
    "    #print([e,u,sal])\n",
    "    #x2=np.vstack((x2,np.array([[e,e_1,e_2,u,u_1,sal_1,sal_2,sal]]))) #\n",
    "    #x2=np.vstack((x2,np.array([[e,u,sal]])))\n",
    "    x2=np.vstack((x2,np.array([[e,e_1,e_2]])))\n",
    "    y2=np.vstack((y2,np.array([[sal]])))\n",
    "    \n",
    "    u_1=u\n",
    "    sal_2=sal_1\n",
    "    sal_1=sal\n",
    "    e_2=e_1\n",
    "    e_1=e\n",
    "    \n",
    "    \n",
    "t=np.arange(0,1001,1)\n",
    "plt.plot(t*T,y)\n",
    "plt.plot(t*T,sp2)\n",
    "t2=np.arange(0,1001,1)\n",
    "plt.plot(T*t2,y2)\n",
    "plt.xlabel('tiempo (s)')\n",
    "plt.ylabel('posición (rad)')\n",
    "plt.title('Respuesta sinusoidal')\n",
    "plt.legend(['Salida de PID','Valor deseado','Salida de red neuronal'],loc='upper right')\n",
    "plt.grid()"
   ]
  },
  {
   "cell_type": "markdown",
   "id": "b01441d2",
   "metadata": {},
   "source": [
    "## Prueba de desempeño"
   ]
  },
  {
   "cell_type": "code",
   "execution_count": 173,
   "id": "2dabb24f",
   "metadata": {},
   "outputs": [
    {
     "name": "stdout",
     "output_type": "stream",
     "text": [
      "Error medio cuadratico: 1.7861213979601726e-15\n",
      "Sobrepaso: 17.256893218377613 %\n",
      "Tiempo de asentamiento: 6.2700000000000005 s\n",
      "Error medio cuadratico: 1.7861213979601726e-15\n",
      "Sobrepaso: 61.55743569588235 %\n",
      "Tiempo de asentamiento: 2.7600000000000002 s\n"
     ]
    }
   ],
   "source": [
    "rmse1=float(np.sqrt((sum(y2-y2.mean())**2)/len(y2)))\n",
    "print('Error medio cuadratico:',rmse1)\n",
    "m_p1=float((1-(abs(x2[:,0].max())/sp2[np.where(abs(x2[:,0])==abs(x2[:,0].max()))]))*100)\n",
    "print('Sobrepaso:',m_p1,'%')\n",
    "t_aux1=t[np.where(x2[:,0]==x2[:,0].min())]\n",
    "t_s1=float(t[t_aux1[0]]*0.01)\n",
    "print('Tiempo de asentamiento:',t_s1,'s')\n",
    "## PID\n",
    "rmse1pid=float(np.sqrt((sum(y-y.mean())**2)/len(y)))\n",
    "print('Error medio cuadratico:',rmse1)\n",
    "x_aux1=np.where(abs(x[:,0])==abs(x[:,0].max()))\n",
    "m_p1=float((1-(abs(x[:,0].max())/sp2[x_aux1[0]]))*100)\n",
    "print('Sobrepaso:',m_p1,'%')\n",
    "t_aux1=t[np.where(x[:,0]==x[:,0].min())]\n",
    "t_s1=float(t[t_aux1[0]]*0.01)\n",
    "print('Tiempo de asentamiento:',t_s1,'s')"
   ]
  },
  {
   "cell_type": "markdown",
   "id": "dfc9e514",
   "metadata": {},
   "source": [
    "## Prueba de pata robótica\n",
    "\n",
    "La pata robótica tiene 2 diferentes $setpoints$, para cada grado de libertad $\\theta_n$:\n",
    "$$\\theta_1=d\\phi-A\\phi(cos(\\xi)-1) $$\n",
    "\n",
    "$$\\theta_2=d\\beta-A\\beta(cos(\\xi)-1)e^{k1\\xi}$$\n",
    "\n",
    "$$\\theta_3=d\\chi-A\\chi(cos(\\xi)-1)e^{k1\\xi}$$\n",
    "\n",
    "con $k_1$:\n",
    "$$k_1=\\frac{1}{c^2\\sqrt{2\\pi}}e^{-\\frac{(\\xi-b)^2}{2c^2}} $$"
   ]
  },
  {
   "cell_type": "code",
   "execution_count": 174,
   "id": "2dc04f7c",
   "metadata": {},
   "outputs": [
    {
     "data": {
      "image/png": "[encoded data removed]",
      "text/plain": [
       "<Figure size 432x288 with 1 Axes>"
      ]
     },
     "metadata": {
      "needs_background": "light"
     },
     "output_type": "display_data"
    }
   ],
   "source": [
    "########################## theta 1 #########################################\n",
    "sp=(350-(350*(np.cos(0*(np.pi/180))-1)))*(np.pi/180)\n",
    "u=0\n",
    "u_1=0\n",
    "e=sp-sal\n",
    "e_1=0\n",
    "e_2=0\n",
    "sal=6 #Posición inicial\n",
    "sal_1=0\n",
    "sal_2=0\n",
    "T=0.01\n",
    "t=[]\n",
    "aa=-sp\n",
    "b=sp\n",
    "e=sp-sal\n",
    "x=np.array([[e,e_1,e_2,u,u_1,sal_1,sal_2,sal]]) #\n",
    "y=np.array([[sal]])\n",
    "\n",
    "sp2=np.array([sp])\n",
    "for tt in range(1000):\n",
    "    \n",
    "    sp=(350-(350*(np.cos(tt*0.001*(np.pi/180))-1)))*(np.pi/180)\n",
    "    e=sp-sal\n",
    "    #e_n=sp-sal_n\n",
    "    u=controlador_pid(c_0,c_1,c_2,e,e_1,e_2,u_1)\n",
    "\n",
    "    sal=motor(k,a,u_1,sal_1,sal_2)\n",
    "    \n",
    "    #print([e,u,sal])\n",
    "    x=np.vstack((x,np.array([[e,e_1,e_2,u,u_1,sal_1,sal_2,sal]]))) #\n",
    "    y=np.vstack((y,np.array([[sal]])))\n",
    "    sp2=np.vstack((sp2,np.array([sp])))\n",
    "    u_1=u\n",
    "    sal_2=sal_1\n",
    "    sal_1=sal\n",
    "    e_2=e_1\n",
    "    e_1=e\n",
    "#\"\"\"\n",
    "u=0\n",
    "u_1=0\n",
    "e=sp-sal\n",
    "e_1=0\n",
    "e_2=0\n",
    "sal=6 #Posición inicial\n",
    "sal_1=0\n",
    "sal_2=0\n",
    "#x2=np.array([[e,e_1,e_2,u,u_1,sal_1,sal_2,sal]]) #\n",
    "#x2=np.array([[e,u,sal]])\n",
    "x2=np.array([[e,e_1,e_2]])\n",
    "y2=np.array([[sal]])\n",
    "\n",
    "for tt in range(1000):\n",
    "    \n",
    "    sp=(350-(350*(np.cos(tt*0.001*(np.pi/180))-1)))*(np.pi/180)\n",
    "    e=sp-sal\n",
    "    #u=model.predict(x2) #No deja hacer una predicción por renglón\n",
    "    #u=model.predict([[e,e_1,e_2,u,u_1,sal_1,sal_2,sal]]) #\n",
    "    #u=model.predict([[e,u,sal]])\n",
    "    u=model.predict([[e,e_1,e_2]])\n",
    "    u=float(u)\n",
    "    if abs(u)>12.5 and u<0: #saturación de voltaje\n",
    "        u=-12.5\n",
    "    elif abs(u)>12.5 and u>0:\n",
    "        u=12.5\n",
    "    u=u*0.0557 #conversión a tensión\n",
    "\n",
    "    \n",
    "    #u=u*0.0557 #conversión a tensión\n",
    "    sal=motor(k,a,u_1,sal_1,sal_2)\n",
    "    #print([e,u,sal])\n",
    "    #x2=np.vstack((x2,np.array([[e,e_1,e_2,u,u_1,sal_1,sal_2,sal]]))) #\n",
    "    #x2=np.vstack((x2,np.array([[e,u,sal]])))\n",
    "    x2=np.vstack((x2,np.array([[e,e_1,e_2]])))\n",
    "    y2=np.vstack((y2,np.array([[sal]])))\n",
    "    \n",
    "    u_1=u\n",
    "    sal_2=sal_1\n",
    "    sal_1=sal\n",
    "    e_2=e_1\n",
    "    e_1=e\n",
    "    \n",
    "#\"\"\"    \n",
    "t=np.arange(0,1001,1)\n",
    "plt.plot(0.01*t,y)\n",
    "plt.plot(0.01*t,sp2)\n",
    "t2=np.arange(0,1001,1)\n",
    "plt.plot(0.01*t2,y2)\n",
    "plt.xlabel('tiempo (s)')\n",
    "plt.ylabel('posición (rad)')\n",
    "plt.title('Respuesta theta 1')\n",
    "plt.legend(['Salida de PID','Valor deseado','Salida de red neuronal'],loc='lower right')\n",
    "plt.grid()"
   ]
  },
  {
   "cell_type": "markdown",
   "id": "3e8226a6",
   "metadata": {},
   "source": [
    "## Prueba de desempeño"
   ]
  },
  {
   "cell_type": "code",
   "execution_count": 175,
   "id": "732cf75b",
   "metadata": {},
   "outputs": [
    {
     "name": "stdout",
     "output_type": "stream",
     "text": [
      "Error medio cuadratico: 6.9620134647406334e-15\n",
      "Sobrepaso: -0.4600870549841707 %\n",
      "Tiempo de asentamiento: 0.29 s\n",
      "Error medio cuadratico: 3.9470124723489237e-14\n",
      "Sobrepaso: 0.0 %\n",
      "Tiempo de asentamiento: 10.0 s\n"
     ]
    }
   ],
   "source": [
    "rmse1=float(np.sqrt((sum(y2-y2.mean())**2)/len(y2)))\n",
    "print('Error medio cuadratico:',rmse1)\n",
    "m_p1=float((1-(abs(x2[:,0].max())/sp2[np.where(abs(x2[:,0])==abs(x2[:,0].max()))]))*100)\n",
    "print('Sobrepaso:',m_p1,'%')\n",
    "t_aux1=t[np.where(x2[:,0]==x2[:,0].min())]\n",
    "t_s1=float(t[t_aux1[0]]*0.01)\n",
    "print('Tiempo de asentamiento:',t_s1,'s')\n",
    "## PID\n",
    "rmse1pid=float(np.sqrt((sum(y-y.mean())**2)/len(y)))\n",
    "print('Error medio cuadratico:',rmse1pid)\n",
    "x_aux1=np.where(abs(x[:,0])==abs(x[:,0].max()))\n",
    "m_p1=float((1-(abs(x[:,0].max())/sp2[x_aux1[0]]))*100)\n",
    "print('Sobrepaso:',m_p1,'%')\n",
    "t_aux1=t[np.where(x[:,0]==x[:,0].min())]\n",
    "t_s1=float(t[t_aux1[0]]*0.01)\n",
    "print('Tiempo de asentamiento:',t_s1,'s')"
   ]
  },
  {
   "cell_type": "markdown",
   "id": "4d8f3bb5",
   "metadata": {},
   "source": [
    "## Prueba de pata robótica segunda parte\n"
   ]
  },
  {
   "cell_type": "code",
   "execution_count": 176,
   "id": "0a6986e2",
   "metadata": {},
   "outputs": [
    {
     "data": {
      "image/png": "[encoded data removed]",
      "text/plain": [
       "<Figure size 432x288 with 1 Axes>"
      ]
     },
     "metadata": {
      "needs_background": "light"
     },
     "output_type": "display_data"
    }
   ],
   "source": [
    "########################## theta 2,3 #########################################\n",
    "sigma=0.6\n",
    "mu=1.2\n",
    "k_1=(1/(np.sqrt(2)*sigma**2))*np.exp(-((0-mu)**2/(2*sigma**2)))\n",
    "sp=(40-(1*(np.cos(0)-1)))*np.exp(k_1*0)*(np.pi/180)\n",
    "u=0\n",
    "u_1=0\n",
    "e=sp-sal\n",
    "e_1=0\n",
    "e_2=0\n",
    "sal=6 #Posición inicial\n",
    "sal_1=0\n",
    "sal_2=0\n",
    "T=0.01\n",
    "t=[]\n",
    "aa=-sp\n",
    "b=sp\n",
    "e=sp-sal\n",
    "x=np.array([[e,e_1,e_2,u,u_1,sal_1,sal_2,sal]]) #\n",
    "y=np.array([[sal]])\n",
    "\n",
    "sp2=np.array([sp])\n",
    "for tt in range(200):\n",
    "    \n",
    "    k_1=(1/(np.sqrt(2)*sigma**2))*np.exp(-(((tt*np.pi/180)-mu)**2/(2*sigma**2)))\n",
    "    sp=(40-(1*(np.cos(tt*np.pi/180)-1)))*np.exp(k_1*(tt*np.pi/180))*(np.pi/180)\n",
    "    e=sp-sal\n",
    "    #e_n=sp-sal_n\n",
    "    u=controlador_pid(c_0,c_1,c_2,e,e_1,e_2,u_1)\n",
    "\n",
    "    sal=motor(k,a,u_1,sal_1,sal_2)\n",
    "    \n",
    "    #print([e,u,sal])\n",
    "    x=np.vstack((x,np.array([[e,e_1,e_2,u,u_1,sal_1,sal_2,sal]]))) #\n",
    "    y=np.vstack((y,np.array([[sal]])))\n",
    "    sp2=np.vstack((sp2,np.array([sp])))\n",
    "    u_1=u\n",
    "    sal_2=sal_1\n",
    "    sal_1=sal\n",
    "    e_2=e_1\n",
    "    e_1=e\n",
    "#\"\"\"\n",
    "sigma=0.6\n",
    "mu=1.2\n",
    "k_1=(1/(np.sqrt(2)*sigma**2))*np.exp(-((0-mu)**2/(2*sigma**2)))\n",
    "sp=(40-(1*(np.cos(0)-1)))*np.exp(k_1*0)*(np.pi/180)\n",
    "u=0\n",
    "u_1=0\n",
    "e=sp-sal\n",
    "e_1=0\n",
    "e_2=0\n",
    "sal=6 #Posición inicial\n",
    "sal_1=0\n",
    "sal_2=0\n",
    "#x2=np.array([[e,e_1,e_2,u,u_1,sal_1,sal_2,sal]]) #\n",
    "#x2=np.array([[e,u,sal]])\n",
    "x2=np.array([[e,e_1,e_2]])\n",
    "y2=np.array([[sal]])\n",
    "\n",
    "for tt in range(200):\n",
    "    \n",
    "    k_1=(1/(np.sqrt(2)*sigma**2))*np.exp(-(((tt*np.pi/180)-mu)**2/(2*sigma**2)))\n",
    "    sp=(40-(1*(np.cos(tt*np.pi/180)-1)))*np.exp(k_1*(tt*np.pi/180))*(np.pi/180)\n",
    "    sp=(350-(350*(np.cos(tt*0.001*(np.pi/180))-1)))*(np.pi/180)\n",
    "    e=sp-sal\n",
    "    #u=model.predict(x2) #No deja hacer una predicción por renglón\n",
    "    #u=model.predict([[e,e_1,e_2,u,u_1,sal_1,sal_2,sal]]) #\n",
    "    #u=model.predict([[e,u,sal]])\n",
    "    u=model.predict([[e,e_1,e_2]])\n",
    "    u=float(u)\n",
    "    if abs(u)>12.5 and u<0: #saturación de voltaje\n",
    "        u=-12.5\n",
    "    elif abs(u)>12.5 and u>0:\n",
    "        u=12.5\n",
    "    u=u*0.0557 #conversión a tensión\n",
    "\n",
    "    \n",
    "    #u=u*0.0557 #conversión a tensión\n",
    "    sal=motor(k,a,u_1,sal_1,sal_2)\n",
    "    #print([e,u,sal])\n",
    "    #x2=np.vstack((x2,np.array([[e,e_1,e_2,u,u_1,sal_1,sal_2,sal]]))) #\n",
    "    #x2=np.vstack((x2,np.array([[e,u,sal]])))\n",
    "    x2=np.vstack((x2,np.array([[e,e_1,e_2]])))\n",
    "    y2=np.vstack((y2,np.array([[sal]])))\n",
    "    \n",
    "    u_1=u\n",
    "    sal_2=sal_1\n",
    "    sal_1=sal\n",
    "    e_2=e_1\n",
    "    e_1=e\n",
    "    \n",
    "#\"\"\"    \n",
    "t=np.arange(0,201,1)\n",
    "plt.plot(t*0.01,y)\n",
    "plt.plot(t*0.01,sp2)\n",
    "t2=np.arange(0,201,1)\n",
    "plt.plot(t*0.01,y2)\n",
    "plt.xlabel('tiempo (s)')\n",
    "plt.ylabel('posición (rad)')\n",
    "plt.title('Respuesta theta 2,3')\n",
    "plt.legend(['Salida de PID','Valor deseado','Salida de red neuronal'],loc='lower right')\n",
    "plt.grid()"
   ]
  },
  {
   "cell_type": "markdown",
   "id": "588fef61",
   "metadata": {},
   "source": [
    "## Prueba de desempeño"
   ]
  },
  {
   "cell_type": "code",
   "execution_count": 177,
   "id": "af6c138d",
   "metadata": {},
   "outputs": [
    {
     "name": "stdout",
     "output_type": "stream",
     "text": [
      "Error medio cuadratico: 3.7588365266142085e-16\n",
      "Sobrepaso: -764.6028960833164 %\n",
      "Tiempo de asentamiento: 0.29 s\n",
      "Error medio cuadratico: 2.5332992007493675e-15\n",
      "Sobrepaso: 41.50158480470112 %\n",
      "Tiempo de asentamiento: 0.0 s\n"
     ]
    }
   ],
   "source": [
    "rmse1=float(np.sqrt((sum(y2-y2.mean())**2)/len(y2)))\n",
    "print('Error medio cuadratico:',rmse1)\n",
    "m_p1=float((1-(abs(x2[:,0].max())/sp2[np.where(abs(x2[:,0])==abs(x2[:,0].max()))]))*100)\n",
    "print('Sobrepaso:',m_p1,'%')\n",
    "t_aux1=t[np.where(x2[:,0]==x2[:,0].min())]\n",
    "t_s1=float(t[t_aux1[0]]*0.01)\n",
    "print('Tiempo de asentamiento:',t_s1,'s')\n",
    "## PID\n",
    "rmse1pid=float(np.sqrt((sum(y-y.mean())**2)/len(y)))\n",
    "print('Error medio cuadratico:',rmse1pid)\n",
    "x_aux1=np.where(abs(x[:,0])==abs(x[:,0].max()))\n",
    "m_p1=float((1-(abs(x[:,0].max())/sp2[x_aux1[0]]))*100)\n",
    "print('Sobrepaso:',m_p1,'%')\n",
    "t_aux1=t[np.where(x[:,0]==x[:,0].min())]\n",
    "t_s1=float(t[t_aux1[0]]*0.01)\n",
    "print('Tiempo de asentamiento:',t_s1,'s')"
   ]
  },
  {
   "cell_type": "code",
   "execution_count": null,
   "id": "6e90f69a",
   "metadata": {},
   "outputs": [],
   "source": []
  }
 ],
 "metadata": {
  "kernelspec": {
   "display_name": "Python 3 (ipykernel)",
   "language": "python",
   "name": "python3"
  },
  "language_info": {
   "codemirror_mode": {
    "name": "ipython",
    "version": 3
   },
   "file_extension": ".py",
   "mimetype": "text/x-python",
   "name": "python",
   "nbconvert_exporter": "python",
   "pygments_lexer": "ipython3",
   "version": "3.9.12"
  }
 },
 "nbformat": 4,
 "nbformat_minor": 5
}
