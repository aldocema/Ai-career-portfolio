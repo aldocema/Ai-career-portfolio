{
  "nbformat": 4,
  "nbformat_minor": 0,
  "metadata": {
    "colab": {
      "name": "clase 8 clasificación.ipynb",
      "provenance": []
    },
    "kernelspec": {
      "name": "python3",
      "display_name": "Python 3"
    },
    "language_info": {
      "name": "python"
    }
  },
  "cells": [
    {
      "cell_type": "code",
      "execution_count": 364,
      "metadata": {
        "id": "i4N3yGSiV_Xw"
      },
      "outputs": [],
      "source": [
        "from sklearn.datasets import load_digits\n",
        "digits = load_digits()\n"
      ]
    },
    {
      "cell_type": "code",
      "source": [
        "print(digits.data.shape)\n",
        "print(digits.target.shape)"
      ],
      "metadata": {
        "colab": {
          "base_uri": "https://localhost:8080/"
        },
        "id": "dXM0MF4uWIsv",
        "outputId": "ea2c3a06-127a-4fc4-b60d-230c9014b32a"
      },
      "execution_count": 365,
      "outputs": [
        {
          "output_type": "stream",
          "name": "stdout",
          "text": [
            "(1797, 64)\n",
            "(1797,)\n"
          ]
        }
      ]
    },
    {
      "cell_type": "code",
      "source": [
        "X = digits.data\n",
        "Y = digits.target\n",
        "\n",
        "print(X, len(X))\n",
        "print(Y, len(Y))"
      ],
      "metadata": {
        "colab": {
          "base_uri": "https://localhost:8080/"
        },
        "id": "jSy03RdsWL3Y",
        "outputId": "fef02711-033d-446a-b605-f5ebb8e1e5c7"
      },
      "execution_count": 366,
      "outputs": [
        {
          "output_type": "stream",
          "name": "stdout",
          "text": [
            "[[ 0.  0.  5. ...  0.  0.  0.]\n",
            " [ 0.  0.  0. ... 10.  0.  0.]\n",
            " [ 0.  0.  0. ... 16.  9.  0.]\n",
            " ...\n",
            " [ 0.  0.  1. ...  6.  0.  0.]\n",
            " [ 0.  0.  2. ... 12.  0.  0.]\n",
            " [ 0.  0. 10. ... 12.  1.  0.]] 1797\n",
            "[0 1 2 ... 8 9 8] 1797\n"
          ]
        }
      ]
    },
    {
      "cell_type": "code",
      "source": [
        "import numpy as np \n",
        "import matplotlib.pyplot as plt\n",
        "\n",
        "\n",
        "plt.figure(figsize=(20,4))\n",
        "\n",
        "inicial = 0\n",
        "\n",
        "for index, (imagen, etiqueta) in enumerate(zip(X[inicial:inicial+10], Y[inicial:inicial+10])):\n",
        " plt.subplot(1, 10, index + 1)\n",
        " plt.imshow(np.reshape(imagen, (8,8)), cmap=plt.cm.gray)\n",
        " plt.title('Valor: %i\\n' % etiqueta, fontsize = 15)"
      ],
      "metadata": {
        "colab": {
          "base_uri": "https://localhost:8080/",
          "height": 178
        },
        "id": "fKNVjYW7XECJ",
        "outputId": "186e782a-648b-43d6-e7f2-c26b9d684e7c"
      },
      "execution_count": 367,
      "outputs": [
        {
          "output_type": "display_data",
          "data": {
            "text/plain": [
              "<Figure size 1440x288 with 10 Axes>"
            ],
            "image/png": "[encoded data removed]"
          },
          "metadata": {
            "needs_background": "light"
          }
        }
      ]
    },
    {
      "cell_type": "markdown",
      "source": [
        "Programar un clasificador utilizando regresión logística\n",
        "\n",
        "\n"
      ],
      "metadata": {
        "id": "DLXtL4uSY6fo"
      }
    },
    {
      "cell_type": "code",
      "source": [
        "import random\n",
        "valores=np.random.randint(0,10,size=(1,2))\n",
        "#valores=np.array([1, 4])\n",
        "valores=sum(valores)\n",
        "#print(valores)\n",
        "while valores[0]==valores[1]:\n",
        "    valores=np.random.randint(0,9,size=(1,2))\n",
        "    valores=sum(valores)\n",
        "\n",
        "print(valores)\n"
      ],
      "metadata": {
        "colab": {
          "base_uri": "https://localhost:8080/"
        },
        "id": "ErjklNtzY3oZ",
        "outputId": "c4cb5ebb-3ae1-466f-9b20-8f4fcdf3edb6"
      },
      "execution_count": 368,
      "outputs": [
        {
          "output_type": "stream",
          "name": "stdout",
          "text": [
            "[5 1]\n"
          ]
        }
      ]
    },
    {
      "cell_type": "code",
      "source": [
        "valy=np.where((Y==valores[0]) | (Y==valores[1]))\n",
        "valx=X[valy]\n",
        "#print(valx)\n",
        "[renx,colx]=valx.shape\n",
        "valy_f=np.asarray(Y[valy])\n",
        "\n",
        "valy_f=valy_f.T\n",
        "print(valy_f.shape)\n",
        "print(valx.shape)\n",
        "print(valy_f)"
      ],
      "metadata": {
        "colab": {
          "base_uri": "https://localhost:8080/"
        },
        "id": "r3R-e8JZcrvr",
        "outputId": "adbdc668-0618-40a0-a1ed-8c8162eccaaf"
      },
      "execution_count": 369,
      "outputs": [
        {
          "output_type": "stream",
          "name": "stdout",
          "text": [
            "(364,)\n",
            "(364, 64)\n",
            "[1 5 1 5 1 5 5 5 5 1 5 1 1 1 5 5 1 1 1 1 1 5 1 5 5 5 1 5 1 5 1 5 5 5 5 1 5\n",
            " 1 1 1 5 5 1 1 1 1 1 5 1 5 5 5 1 5 1 5 1 5 5 5 5 1 5 1 1 1 5 5 1 1 1 1 1 5\n",
            " 1 5 5 5 1 5 1 5 1 5 5 5 5 1 5 1 1 1 5 5 1 1 1 1 1 5 1 5 5 5 1 5 1 5 1 5 5\n",
            " 5 5 1 5 1 1 1 5 5 1 1 1 1 1 5 1 5 5 5 1 5 1 5 1 5 5 5 5 1 5 1 1 1 5 5 1 1\n",
            " 1 1 1 5 1 5 5 5 1 5 1 5 1 5 5 5 5 1 5 1 1 1 5 5 1 1 1 1 1 5 1 5 5 5 1 5 1\n",
            " 5 1 5 5 5 5 1 5 1 1 1 5 5 1 1 1 1 1 5 1 5 5 5 1 5 1 5 1 5 5 5 5 1 5 1 1 1\n",
            " 5 5 1 1 1 1 1 5 1 5 5 5 1 5 1 5 1 5 5 5 5 1 5 1 1 1 5 5 1 1 1 1 1 5 1 5 5\n",
            " 5 1 5 1 5 1 5 5 5 5 1 5 1 1 1 5 5 1 1 1 1 1 5 1 5 5 5 1 5 1 5 1 5 5 5 5 1\n",
            " 5 1 1 1 5 5 1 1 1 1 1 5 1 5 5 5 1 5 1 5 1 5 5 5 5 1 5 1 1 1 5 5 1 1 1 1 1\n",
            " 5 1 5 5 5 1 5 1 5 1 5 5 5 5 1 5 1 1 1 5 5 1 1 1 1 1 5 1 5 5 5]\n"
          ]
        }
      ]
    },
    {
      "cell_type": "markdown",
      "source": [
        "Agregar columna de 1s\n",
        "\n"
      ],
      "metadata": {
        "id": "Pd_kAAGlgpaU"
      }
    },
    {
      "cell_type": "code",
      "source": [
        "valx=np.insert(valx,0,np.ones([len(valx)],dtype=int),axis=1)\n",
        "\n",
        "[renx,colx]=valx.shape\n",
        "print(renx,colx)"
      ],
      "metadata": {
        "colab": {
          "base_uri": "https://localhost:8080/"
        },
        "id": "kjYw8bPViiH0",
        "outputId": "039ea165-9938-414d-d18c-a7aaa0c1af64"
      },
      "execution_count": 370,
      "outputs": [
        {
          "output_type": "stream",
          "name": "stdout",
          "text": [
            "364 65\n"
          ]
        }
      ]
    },
    {
      "cell_type": "markdown",
      "source": [
        "Cambiar etiquetas de Y por 0s y 1s"
      ],
      "metadata": {
        "id": "AETJxjtfioxz"
      }
    },
    {
      "cell_type": "code",
      "source": [
        "print(valy_f.shape)\n",
        "for q in range(renx):\n",
        "  if valy_f[q]==valores[0]:\n",
        "    valy_f[q]=0\n",
        "  else:\n",
        "    valy_f[q]=1\n",
        "\n",
        "valy_f=np.reshape(valy_f,(renx,1))\n",
        "print(valy_f.shape)\n"
      ],
      "metadata": {
        "id": "D_5CfneHjXwc",
        "colab": {
          "base_uri": "https://localhost:8080/"
        },
        "outputId": "5a01d13b-2160-4c9f-8767-c948c2dcd3f9"
      },
      "execution_count": 371,
      "outputs": [
        {
          "output_type": "stream",
          "name": "stdout",
          "text": [
            "(364,)\n",
            "(364, 1)\n"
          ]
        }
      ]
    },
    {
      "cell_type": "markdown",
      "source": [
        "Proponer thetas aleatorias"
      ],
      "metadata": {
        "id": "G7kRBI1yjX_j"
      }
    },
    {
      "cell_type": "code",
      "source": [
        "\n",
        "thetas=np.random.rand(colx,1)\n",
        "print(thetas.shape)"
      ],
      "metadata": {
        "colab": {
          "base_uri": "https://localhost:8080/"
        },
        "id": "dyjQT6rLNxr6",
        "outputId": "ca2028da-e655-4107-93d3-7bb4d441759f"
      },
      "execution_count": 372,
      "outputs": [
        {
          "output_type": "stream",
          "name": "stdout",
          "text": [
            "(65, 1)\n"
          ]
        }
      ]
    },
    {
      "cell_type": "markdown",
      "source": [
        "Calcular la funcion $X.\\theta$"
      ],
      "metadata": {
        "id": "ow0s9hVYkBP0"
      }
    },
    {
      "cell_type": "code",
      "source": [
        "xt=np.dot(valx,thetas)\n",
        "xt.shape"
      ],
      "metadata": {
        "colab": {
          "base_uri": "https://localhost:8080/"
        },
        "id": "q3g3Gi1qQmKa",
        "outputId": "b22d32bf-81b8-4396-8191-269d27af2ea6"
      },
      "execution_count": 373,
      "outputs": [
        {
          "output_type": "execute_result",
          "data": {
            "text/plain": [
              "(364, 1)"
            ]
          },
          "metadata": {},
          "execution_count": 373
        }
      ]
    },
    {
      "cell_type": "markdown",
      "source": [
        "proponer sigma"
      ],
      "metadata": {
        "id": "kLUd7-Rgj4C0"
      }
    },
    {
      "cell_type": "code",
      "source": [
        "def sigma(xport): #Hipótesis\n",
        "  s=1/(1+np.exp(-(xport)))\n",
        "  return s\n",
        "\n",
        "print(sigma(xt).shape)"
      ],
      "metadata": {
        "colab": {
          "base_uri": "https://localhost:8080/"
        },
        "id": "HEMshRr9RruL",
        "outputId": "fd09e892-3118-4293-9c61-8af17d3931e2"
      },
      "execution_count": 374,
      "outputs": [
        {
          "output_type": "stream",
          "name": "stdout",
          "text": [
            "(364, 1)\n"
          ]
        }
      ]
    },
    {
      "cell_type": "markdown",
      "source": [
        "Aplicar gradiente con matrices caso general."
      ],
      "metadata": {
        "id": "aFF9YvM5kKtc"
      }
    },
    {
      "cell_type": "code",
      "source": [
        "import matplotlib.pyplot as plt\n",
        "epocas=80\n",
        "alpha=0.1\n",
        "m=renx\n",
        "print(xt.shape,valy_f.shape)\n",
        "print(valx.shape)\n",
        "msemat=[]\n",
        "epocmat=[]\n",
        "for epoca in range(epocas):   ##\n",
        "  thetas=thetas-alpha*(1/m)*((sigma(xt)-valy_f).T.dot(valx)).T #Importante para que funcionara\n",
        "  mse=sum(sigma(xt)-valy_f)**2\n",
        "  msemat.append(mse)\n",
        "  epocmat.append(epoca)\n",
        "  xt=np.dot(valx,thetas)\n",
        "  #print(mse)\n",
        "plt.plot(epocmat,msemat)\n",
        "plt.grid()\n",
        "print(msemat[-1])"
      ],
      "metadata": {
        "colab": {
          "base_uri": "https://localhost:8080/",
          "height": 317
        },
        "id": "KszQ3jKsSbka",
        "outputId": "7a190efd-c40d-4d97-9327-8d2deb4b6211"
      },
      "execution_count": 375,
      "outputs": [
        {
          "output_type": "stream",
          "name": "stdout",
          "text": [
            "(364, 1) (364, 1)\n",
            "(364, 65)\n",
            "[0.00010981]\n"
          ]
        },
        {
          "output_type": "display_data",
          "data": {
            "text/plain": [
              "<Figure size 432x288 with 1 Axes>"
            ],
            "image/png": "[encoded data removed]"
          },
          "metadata": {
            "needs_background": "light"
          }
        }
      ]
    },
    {
      "cell_type": "markdown",
      "source": [
        "# Parte 2: entrenamiento con división de valores 60 20 20"
      ],
      "metadata": {
        "id": "jRKLkp5S118G"
      }
    },
    {
      "cell_type": "code",
      "source": [
        "#aplicando regla de 60 20 20 \n",
        "#Cambiando variables\n",
        "X_r1=valx# X\n",
        "thetas_r1=thetas# Theta\n",
        "y_r1=valy_f# y\n",
        "[renx_r1,colx_r1]=X_r1.shape\n",
        "m_r1=renx_r1# m \n",
        "\n",
        "print(X_r1.shape)\n",
        "print(y_r1.shape)\n",
        "import random\n",
        "\n",
        "#division de valores mediante quitar y copiar valores\n",
        "def div_data(x,y,porcentajes):\n",
        "  x_total=x\n",
        "  [rowx,colx]=x_total.shape\n",
        "  y_total=y\n",
        "  ll=rowx\n",
        "  x_train=np.empty((0,colx),dtype=float)\n",
        "  y_train=np.empty((0,1),dtype=float)\n",
        "  x_ver=np.empty((0,colx),dtype=float)\n",
        "  y_ver=np.empty((0,1),dtype=float)\n",
        "  x_test=np.empty((0,colx),dtype=float)\n",
        "  y_test=np.empty((0,1),dtype=float)\n",
        "  ##Datos de entrenamiento\n",
        "  for ii in range(round(ll*porcentajes[0]/100)):\n",
        "    p=random.randint(0,len(x_total)-1)\n",
        "    ## Para x\n",
        "    val_el=x_total[p,:]\n",
        "    x_total=np.delete(x_total,p,0)\n",
        "    x_train=np.vstack([x_train,val_el])\n",
        "    ##para y\n",
        "    val_el=y_total[p,:]\n",
        "    y_total=np.delete(y_total,p,0)\n",
        "    y_train=np.vstack([y_train,val_el])\n",
        "  ## Datos de verificación\n",
        "  for ii in range(round(ll*porcentajes[1]/100)):\n",
        "    p=random.randint(0,len(x_total)-1)\n",
        "    ## Para x\n",
        "    val_el=x_total[p,:]\n",
        "    x_total=np.delete(x_total,p,0)\n",
        "    x_ver=np.vstack([x_ver,val_el])\n",
        "    ##para y\n",
        "    val_el=y_total[p,:]\n",
        "    y_total=np.delete(y_total,p,0)\n",
        "    y_ver=np.vstack([y_ver,val_el])\n",
        "  \n",
        "  ## La parte de test, es el resultado de x y y total\n",
        "  x_test=x_total\n",
        "  y_test=y_total\n",
        "\n",
        "  return [x_train,y_train,x_ver,y_ver,x_test,y_test]\n",
        "\n",
        "[x_train,y_train,x_ver,y_ver,x_test,y_test]=div_data(X_r1,y_r1,[60, 20, 20])"
      ],
      "metadata": {
        "colab": {
          "base_uri": "https://localhost:8080/"
        },
        "id": "Ou66GP_qwhjr",
        "outputId": "61d5d1b8-390d-4584-bdc5-e60db8bb51ba"
      },
      "execution_count": 376,
      "outputs": [
        {
          "output_type": "stream",
          "name": "stdout",
          "text": [
            "(364, 65)\n",
            "(364, 1)\n"
          ]
        }
      ]
    },
    {
      "cell_type": "markdown",
      "source": [
        "aplicación de Gradiente descendiente para 60 20 20"
      ],
      "metadata": {
        "id": "uGW0um4p3Qpw"
      }
    },
    {
      "cell_type": "code",
      "source": [
        "alpha_r1=0.01# Alpha\n",
        "epocas=50\n",
        "t_1=thetas=np.random.rand(colx_r1,1)\n",
        "def g_epocas(x,y,thetas,epocas,apha):  ##Entrenamiento\n",
        "  msemat=[]\n",
        "  epocmat=[]\n",
        "  [rowx,colx]=x.shape\n",
        "  mse=0\n",
        "  xt=np.dot(x,thetas)\n",
        "  m=len(x)\n",
        "  for epoca in range(epocas):\n",
        "    thetas=thetas-alpha*(1/m)*((sigma(xt)-y).T.dot(x)).T\n",
        "    mse=sum(sigma(xt)-y)**2\n",
        "    msemat.append(mse)\n",
        "    epocmat.append(epoca)\n",
        "    xt=np.dot(x,thetas)   \n",
        "  plt.plot(epocmat,msemat)\n",
        "  plt.grid()\n",
        "  print('Resultados del entrenamiento MSE: ',float(msemat[-1]))\n",
        "  return thetas\n",
        "\n",
        "def prueba(x,y,thetas):\n",
        "  acc=0\n",
        "  aciertos=0\n",
        "  posibles=len(x)\n",
        "  xt=np.dot(x,thetas)\n",
        "  for ii in range(len(x)):\n",
        "    \n",
        "    p_r=sigma(xt[ii,:]) \n",
        "    #print(p_r)\n",
        "    if p_r>0.5:\n",
        "      p_r=1\n",
        "    else:\n",
        "      p_r=0\n",
        "    \n",
        "    if p_r==y[ii,0]:\n",
        "      aciertos+=1\n",
        "\n",
        "  acc=(aciertos/posibles)*100\n",
        "  return acc\n",
        "\n",
        "\n",
        "\n",
        "\n",
        "\n",
        "thetas_fin=g_epocas(x_train,y_train,t_1,epocas,alpha) #Thetas despues de entrenamiento\n",
        "print('Los resultados de la verificación son: ',prueba(x_ver,y_ver,thetas_fin),'% de precisión')\n",
        "print('Los resultados de test son: ',prueba(x_test,y_test,thetas_fin),'% de precisión')\n",
        "\n",
        "\n"
      ],
      "metadata": {
        "colab": {
          "base_uri": "https://localhost:8080/",
          "height": 317
        },
        "id": "YYuOoi-m4pfP",
        "outputId": "a76e0bd1-7e68-4a85-d62e-287e0d40d715"
      },
      "execution_count": 377,
      "outputs": [
        {
          "output_type": "stream",
          "name": "stdout",
          "text": [
            "Resultados del entrenamiento MSE:  1.8121885665324867e-05\n",
            "Los resultados de la verificación son:  100.0 % de precisión\n",
            "Los resultados de test son:  98.63013698630137 % de precisión\n"
          ]
        },
        {
          "output_type": "display_data",
          "data": {
            "text/plain": [
              "<Figure size 432x288 with 1 Axes>"
            ],
            "image/png": "[encoded data removed]"
          },
          "metadata": {
            "needs_background": "light"
          }
        }
      ]
    },
    {
      "cell_type": "markdown",
      "source": [
        "# Método K-Folds con K=4"
      ],
      "metadata": {
        "id": "kZhnGDOR2bSX"
      }
    },
    {
      "cell_type": "code",
      "source": [
        "#aplicando regla k-folds\n",
        "#Cambiando variables\n",
        "X_r2=valx# X\n",
        "y_r2=valy_f# y\n",
        "k=5  ### Cantidad de divisiones\n",
        "def k_folds(x,y,k):  #Función que únicamente divide los grupos\n",
        "  x_total=x\n",
        "  [rowx,colx]=x_total.shape\n",
        "  y_total=y\n",
        "  ll=rowx\n",
        "  x_group=np.empty((0,colx),dtype=float)\n",
        "  y_group=np.empty((0,1),dtype=float)\n",
        "  resx=[]\n",
        "  resy=[]\n",
        "  for div in range(k):\n",
        "    x_group=np.empty((0,colx),dtype=float)\n",
        "    y_group=np.empty((0,1),dtype=float)\n",
        "    for ii in range(round(np.trunc(len(x)/k))):\n",
        "      p=np.random.randint(0,len(x_total))\n",
        "      val_el=x_total[p,:]   #Para x\n",
        "      x_total=np.delete(x_total,p,0)\n",
        "      x_group=np.vstack([x_group,val_el])\n",
        "      ##Para y\n",
        "      val_el=y_total[p,:]\n",
        "      y_total=np.delete(y_total,p,0)\n",
        "      y_group=np.vstack([y_group,val_el])\n",
        "    resx.append(x_group)\n",
        "    resy.append(y_group)\n",
        "  return [resx,resy]\n",
        "\n",
        "[g_x,g_y]=k_folds(X_r2,y_r2,k)\n",
        "print(len(g_x))"
      ],
      "metadata": {
        "colab": {
          "base_uri": "https://localhost:8080/"
        },
        "id": "V89x-qNSMG7r",
        "outputId": "b65697ad-ca8a-4122-b3ce-1442e6ab3e9b"
      },
      "execution_count": 381,
      "outputs": [
        {
          "output_type": "stream",
          "name": "stdout",
          "text": [
            "5\n"
          ]
        }
      ]
    },
    {
      "cell_type": "markdown",
      "source": [
        "# Muestra de resultados de K-folds"
      ],
      "metadata": {
        "id": "_17AwyiFPuM6"
      }
    },
    {
      "cell_type": "code",
      "source": [
        "\n",
        "alpha_r1=0.001# Alpha\n",
        "epocas=50\n",
        "t_1=thetas=np.random.rand(colx_r1,1)\n",
        "[renx_r2,colx_r2]=X_r1.shape\n",
        "m_r2=renx_r2# m \n",
        "\n",
        "########### Prueba de valores de K ###\n",
        "for rr in range(k):\n",
        "  gr_tempx=g_x\n",
        "  gr_tempy=g_y\n",
        "  gr_verx=gr_tempx[rr]\n",
        "  gr_very=gr_tempy[rr]\n",
        "  gr_trainy=np.empty((0,1),dtype=float)\n",
        "  gr_trainx=np.empty((0,colx),dtype=float)\n",
        "  for eliminate in range(k):\n",
        "    if eliminate==rr:\n",
        "      print('segmento omitido',eliminate)\n",
        "    else:\n",
        "      gr_trainx=np.vstack([gr_trainx,gr_tempx[eliminate]])\n",
        "      gr_trainy=np.vstack([gr_trainy,gr_tempy[eliminate]])\n",
        "  \n",
        "  t_1=thetas=np.random.rand(colx_r1,1)\n",
        "  t_n=g_epocas(gr_trainx,gr_trainy,t_1,epocas,alpha)\n",
        "  prueba(gr_verx,gr_very,t_n)\n",
        "  print('Los resultados de la verificación son: ',prueba(x_ver,y_ver,thetas_fin),'% de precisión')\n",
        "\n",
        "\n",
        "\n",
        "\n",
        "\n"
      ],
      "metadata": {
        "colab": {
          "base_uri": "https://localhost:8080/",
          "height": 525
        },
        "id": "qL-WTR0QQlKs",
        "outputId": "5a3c44aa-72b4-4f52-bf0f-0416464a176e"
      },
      "execution_count": 382,
      "outputs": [
        {
          "output_type": "stream",
          "name": "stdout",
          "text": [
            "segmento omitido 0\n",
            "Resultados del entrenamiento MSE:  3.148296868423244e-05\n",
            "Los resultados de la verificación son:  100.0 % de precisión\n",
            "segmento omitido 1\n",
            "Resultados del entrenamiento MSE:  0.0008728879248555085\n",
            "Los resultados de la verificación son:  100.0 % de precisión\n",
            "segmento omitido 2\n",
            "Resultados del entrenamiento MSE:  4.493979357609134e-05\n",
            "Los resultados de la verificación son:  100.0 % de precisión\n",
            "segmento omitido 3\n",
            "Resultados del entrenamiento MSE:  3.8508174172384236e-05\n",
            "Los resultados de la verificación son:  100.0 % de precisión\n",
            "segmento omitido 4\n",
            "Resultados del entrenamiento MSE:  0.0004945740365993505\n",
            "Los resultados de la verificación son:  100.0 % de precisión\n"
          ]
        },
        {
          "output_type": "display_data",
          "data": {
            "text/plain": [
              "<Figure size 432x288 with 1 Axes>"
            ],
            "image/png": "[encoded data removed]"
          },
          "metadata": {
            "needs_background": "light"
          }
        }
      ]
    },
    {
      "cell_type": "code",
      "source": [
        "los=np.array(g_x[1])\n",
        "print(los.shape)"
      ],
      "metadata": {
        "colab": {
          "base_uri": "https://localhost:8080/"
        },
        "id": "FovBUXY9T4A9",
        "outputId": "7b671373-92e0-4397-95fc-f76d9cc321dd"
      },
      "execution_count": 380,
      "outputs": [
        {
          "output_type": "stream",
          "name": "stdout",
          "text": [
            "(91, 65)\n"
          ]
        }
      ]
    }
  ]
}