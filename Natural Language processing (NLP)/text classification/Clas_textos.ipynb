{
 "cells": [
  {
   "cell_type": "markdown",
   "id": "c49d834d",
   "metadata": {},
   "source": [
    "# Clasificación de textos con diferentes métodos"
   ]
  },
  {
   "cell_type": "code",
   "execution_count": 1,
   "id": "702918be",
   "metadata": {},
   "outputs": [],
   "source": [
    "import numpy as np\n",
    "import pandas as pd\n",
    "import string \n",
    "import re"
   ]
  },
  {
   "cell_type": "code",
   "execution_count": 2,
   "id": "6bdc9a19",
   "metadata": {},
   "outputs": [],
   "source": [
    "# se crea vocabulario\n",
    "#\"\"\"\n",
    "def create_vocabulary(list_of_documents):\n",
    "    i = 0\n",
    "    vocabulary = {}\n",
    "    # Para cada documento en la lista de documentos\n",
    "    for document in list_of_documents:\n",
    "        # Separa el documento en palabras\n",
    "        words = document.split(' ')\n",
    "        #words=document\n",
    "        # Para cada palabra en las palabras\n",
    "        for word in words:\n",
    "            # Si la palabra no está en el vocabulario\n",
    "            if word not in vocabulary:\n",
    "                vocabulary[word] = i\n",
    "                i += 1\n",
    "    return vocabulary\n",
    "#\"\"\"\n",
    "\n",
    "    \n",
    "# Vectorización del documento\n",
    "def create_vectorized_document(document, vocabulary):\n",
    "    # Separa el documento en palabras\n",
    "    words = document.split(' ')\n",
    "    # Crea un vector de ceros\n",
    "    vector = np.zeros(len(vocabulary))\n",
    "    # Para cada palabra en las palabras\n",
    "    for word in words:\n",
    "        # Si la palabra está en el vocabulario\n",
    "        if word in vocabulary:\n",
    "            # Incrementa el valor del vector en la posición de la palabra\n",
    "            vector[vocabulary[word]] += 1\n",
    "    return vector\n",
    "\n",
    "def create_matrix_documents(list_of_documents, vocabulary):\n",
    "    # Crea una matriz de ceros\n",
    "    matrix = np.zeros((len(list_of_documents), len(vocabulary)))\n",
    "    # Para cada documento en la lista de documentos\n",
    "    for i in range(len(list_of_documents)):\n",
    "        # Crea un vector para el documento\n",
    "        vector = create_vectorized_document(list_of_documents[i], vocabulary)\n",
    "        # Agrega el vector a la matriz\n",
    "        matrix[i] = vector\n",
    "    return matrix\n",
    "\n",
    "def calculate_cosine_similarity(vector1, vector2):\n",
    "    # Multiplica los vectores\n",
    "    dot_product = np.dot(vector1, vector2)\n",
    "    # Calcula la norma de los vectores\n",
    "    norm_vector1 = np.linalg.norm(vector1)\n",
    "    norm_vector2 = np.linalg.norm(vector2)\n",
    "    # Calcula la similitud coseno\n",
    "    similarity = dot_product / (norm_vector1 * norm_vector2)\n",
    "    return similarity\n",
    "\n",
    "# Calcula la similaridad de cosenos\n",
    "def calculate_similarity_for_query(query, matrix_documents, vocabulary):\n",
    "    # Crea un vector para la consulta\n",
    "    vector_query = create_vectorized_document(query, vocabulary)\n",
    "    # Crea una lista para las similitudes\n",
    "    similarities = {}\n",
    "    # Para cada documento en la matriz de documentos\n",
    "    for i in range(len(matrix_documents)):\n",
    "        # Calcula la similitud coseno\n",
    "        similarity = calculate_cosine_similarity(vector_query, matrix_documents[i])\n",
    "        # Agrega la similitud a la lista de similitudes\n",
    "        similarities[i] = similarity\n",
    "    return sort_dictionary_by_value(similarities)\n",
    "\n",
    "def sort_dictionary_by_value(dictionary):\n",
    "    # Ordena el diccionario\n",
    "    sorted_dictionary = {k: v for k,v in sorted(dictionary.items(), key=lambda x: x[1], reverse=True)}\n",
    "    return sorted_dictionary\n"
   ]
  },
  {
   "cell_type": "code",
   "execution_count": 3,
   "id": "20e6301e",
   "metadata": {},
   "outputs": [],
   "source": [
    "imdb_raw=pd.read_csv('IMDB-Movie-Data.csv')"
   ]
  },
  {
   "cell_type": "code",
   "execution_count": 4,
   "id": "ef75d2a5",
   "metadata": {},
   "outputs": [
    {
     "name": "stdout",
     "output_type": "stream",
     "text": [
      "(1000, 12)\n"
     ]
    },
    {
     "data": {
      "text/plain": [
       "Index(['Rank', 'Title', 'Genre', 'Description', 'Director', 'Actors', 'Year',\n",
       "       'Runtime (Minutes)', 'Rating', 'Votes', 'Revenue (Millions)',\n",
       "       'Metascore'],\n",
       "      dtype='object')"
      ]
     },
     "execution_count": 4,
     "metadata": {},
     "output_type": "execute_result"
    }
   ],
   "source": [
    "print(imdb_raw.shape)\n",
    "imdb_raw.columns"
   ]
  },
  {
   "cell_type": "code",
   "execution_count": 5,
   "id": "e7949f48",
   "metadata": {},
   "outputs": [],
   "source": [
    "data_f=imdb_raw['Description'].copy()\n",
    "#imdb_raw.loc[:,'Description']\n",
    "data_l=data_f.tolist()"
   ]
  },
  {
   "cell_type": "code",
   "execution_count": 6,
   "id": "4af13e2b",
   "metadata": {},
   "outputs": [],
   "source": [
    "# Crear vocabulario\n",
    "v_imdb=create_vocabulary(data_l)\n",
    "mat_doc_c=create_matrix_documents(data_l,v_imdb)"
   ]
  },
  {
   "cell_type": "code",
   "execution_count": 7,
   "id": "06675c24",
   "metadata": {
    "scrolled": true
   },
   "outputs": [
    {
     "data": {
      "text/plain": [
       "(1000, 7645)"
      ]
     },
     "execution_count": 7,
     "metadata": {},
     "output_type": "execute_result"
    }
   ],
   "source": [
    "mat_doc_c.shape"
   ]
  },
  {
   "cell_type": "code",
   "execution_count": 11,
   "id": "47807a54",
   "metadata": {},
   "outputs": [
    {
     "data": {
      "text/plain": [
       "0       Action,Adventure,Sci-Fi\n",
       "1      Adventure,Mystery,Sci-Fi\n",
       "2               Horror,Thriller\n",
       "3       Animation,Comedy,Family\n",
       "4      Action,Adventure,Fantasy\n",
       "5      Action,Adventure,Fantasy\n",
       "6            Comedy,Drama,Music\n",
       "7                        Comedy\n",
       "8    Action,Adventure,Biography\n",
       "9       Adventure,Drama,Romance\n",
       "Name: Genre, dtype: object"
      ]
     },
     "execution_count": 11,
     "metadata": {},
     "output_type": "execute_result"
    }
   ],
   "source": [
    "imdb_raw['Genre'].head(10)"
   ]
  },
  {
   "cell_type": "code",
   "execution_count": null,
   "id": "46a51799",
   "metadata": {},
   "outputs": [],
   "source": []
  }
 ],
 "metadata": {
  "kernelspec": {
   "display_name": "Python 3 (ipykernel)",
   "language": "python",
   "name": "python3"
  },
  "language_info": {
   "codemirror_mode": {
    "name": "ipython",
    "version": 3
   },
   "file_extension": ".py",
   "mimetype": "text/x-python",
   "name": "python",
   "nbconvert_exporter": "python",
   "pygments_lexer": "ipython3",
   "version": "3.9.12"
  }
 },
 "nbformat": 4,
 "nbformat_minor": 5
}
