{
 "cells": [
  {
   "cell_type": "markdown",
   "metadata": {},
   "source": [
    "# Natural Language processing"
   ]
  },
  {
   "cell_type": "markdown",
   "metadata": {},
   "source": [
    "\n",
    "\n",
    "## Introduction\n",
    "\n",
    "Humans communicate in natural languages such as English, German, Japanese and so on.\n",
    "\n",
    "On the other hand, a Computer communicates in Machine Language, which has a defined set of rules.\n",
    "\n",
    "As a reason, a computer cannot communicate with humans in an effective way\n",
    "\n",
    "Natural Language Processing helps in increasing computer intelligence to understand human languages as spoken and to respond.\n",
    "\n",
    "Why NLP?\n",
    "\n",
    "NLP techniques are capable of processing and extracting meaningful insights, from huge unstructured data available online.\n",
    "* It can automate translating text from one language to other. \n",
    "* These techniques can be used for performing sentiment analysis.\n",
    "\n",
    "* It helps in building applications that interact with humans as humans do.\n",
    "\n",
    "* Also, NLP can help in automating Text Classification, Spam Filtering, and more."
   ]
  },
  {
   "cell_type": "code",
   "execution_count": null,
   "metadata": {},
   "outputs": [],
   "source": []
  }
 ],
 "metadata": {
  "language_info": {
   "name": "python"
  }
 },
 "nbformat": 4,
 "nbformat_minor": 2
}
